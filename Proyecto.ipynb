{
 "cells": [
  {
   "cell_type": "code",
   "execution_count": 253,
   "id": "f0d56ec7",
   "metadata": {},
   "outputs": [
    {
     "name": "stdout",
     "output_type": "stream",
     "text": [
      "Coloca tu nombre:\n",
      "Breydi\n",
      "¡Hola Breydi! Bienvenido a Financial World\n",
      "Esta app tiene el propósito de brindarte análisis de acciones financieras y de bases de datos del área de negocios.\n"
     ]
    }
   ],
   "source": [
    "print('Coloca tu nombre:')\n",
    "nombre = str(input())\n",
    "print('¡Hola ' + nombre + '! ' + 'Bienvenido a Financial World')\n",
    "print(\"Esta app tiene el propósito de brindarte análisis de acciones financieras y de bases de datos del área de negocios.\")"
   ]
  },
  {
   "cell_type": "code",
   "execution_count": 254,
   "id": "73ba5cff",
   "metadata": {},
   "outputs": [
    {
     "name": "stdout",
     "output_type": "stream",
     "text": [
      "Capital inicial para entrar a la aplicación:7500\n",
      "Esta cantidad sera resguardada por la empresa como depósito; se tomara dicho depósito en caso de adeudo.\n"
     ]
    }
   ],
   "source": [
    "print(\"Capital inicial para entrar a la aplicación:7500\") \n",
    "print(\"Esta cantidad sera resguardada por la empresa como depósito; se tomara dicho depósito en caso de adeudo.\")"
   ]
  },
  {
   "cell_type": "code",
   "execution_count": 13,
   "id": "ee111b20",
   "metadata": {},
   "outputs": [
    {
     "name": "stdout",
     "output_type": "stream",
     "text": [
      "Mensualidad de acuerdo al tipo de cliente:\n",
      "normal: 2500\n",
      "premium: 5000\n",
      "gold: 7500\n"
     ]
    }
   ],
   "source": [
    "print(\"Mensualidad de acuerdo al tipo de cliente:\")\n",
    "print (\"normal: \" + \"2500\")\n",
    "print (\"premium: \" + \"5000\")\n",
    "print (\"gold: \" + \"7500\")\n"
   ]
  },
  {
   "cell_type": "code",
   "execution_count": 20,
   "id": "b931ebe9",
   "metadata": {},
   "outputs": [],
   "source": [
    "base= 7500\n",
    "normal= 2500\n",
    "premiun= 5000\n",
    "gold= 7500"
   ]
  },
  {
   "cell_type": "code",
   "execution_count": 22,
   "id": "80ec704c",
   "metadata": {},
   "outputs": [
    {
     "name": "stdout",
     "output_type": "stream",
     "text": [
      "Total a pagar: \n",
      "Cliente normal: \n",
      "10000\n",
      "Cliente premium: \n",
      "12500\n",
      "Cliente gold: \n",
      "15000\n"
     ]
    }
   ],
   "source": [
    "print (\"Total a pagar: \")\n",
    "print (\"Cliente normal: \")\n",
    "CN = base + normal\n",
    "print(CN)\n",
    "print (\"Cliente premium: \") \n",
    "CP = base + premium\n",
    "print(CP)\n",
    "print (\"Cliente gold: \")\n",
    "CG= base + gold\n",
    "print(CG)"
   ]
  },
  {
   "cell_type": "code",
   "execution_count": 25,
   "id": "fbcd44dc",
   "metadata": {},
   "outputs": [
    {
     "name": "stdout",
     "output_type": "stream",
     "text": [
      "¡Ahora una muestra de nuestro trabajo!\n"
     ]
    }
   ],
   "source": [
    "print (\"¡\"+ \"Ahora una muestra de nuestro trabajo\" + \"!\")"
   ]
  },
  {
   "cell_type": "code",
   "execution_count": 122,
   "id": "ff9a6a57",
   "metadata": {},
   "outputs": [],
   "source": [
    "import numpy as np\n",
    "import pandas as pd\n",
    "import matplotlib.pyplot as plt\n",
    "import yfinance as yf\n",
    "\n",
    "from sklearn.decomposition import PCA\n",
    "from sklearn.cluster import KMeans\n",
    "from sklearn.preprocessing import StandardScaler"
   ]
  },
  {
   "cell_type": "code",
   "execution_count": 36,
   "id": "a29f96dc",
   "metadata": {},
   "outputs": [
    {
     "name": "stdout",
     "output_type": "stream",
     "text": [
      "Empresas ejemplo:\n",
      "['Tesla', 'General Motors', 'Volkswagen', 'Toyota']\n",
      "Número de empresas: 4\n"
     ]
    }
   ],
   "source": [
    "print (\"Empresas ejemplo:\")\n",
    "empresas = ['Tesla', 'General Motors', 'Volkswagen', 'Toyota']\n",
    "print (empresas)\n",
    "n = len(empresas) \n",
    "print('Número de empresas:', n)"
   ]
  },
  {
   "cell_type": "code",
   "execution_count": 33,
   "id": "634f991d",
   "metadata": {},
   "outputs": [
    {
     "name": "stdout",
     "output_type": "stream",
     "text": [
      "Las empresas de nuetro ejemplo han sido buscadas en promedio en nuestra app:\n",
      "[3000. 4000. 5000. 3600. 4400.]\n"
     ]
    }
   ],
   "source": [
    "print(\"Las empresas de nuetro ejemplo han sido buscadas en promedio en nuestra app:\")\n",
    "Busquedas = np.array ([15000, 20000, 25000 ,18000, 22000])\n",
    "promedio= Busquedas/5\n",
    "print (promedio)"
   ]
  },
  {
   "cell_type": "code",
   "execution_count": 37,
   "id": "6b2359f1",
   "metadata": {},
   "outputs": [
    {
     "name": "stdout",
     "output_type": "stream",
     "text": [
      "ID empresa: 0       Nombre: Tesla\n",
      "ID empresa: 1       Nombre: General Motors\n",
      "ID empresa: 2       Nombre: Volkswagen\n",
      "ID empresa: 3       Nombre: Toyota\n"
     ]
    }
   ],
   "source": [
    "empresas = ['Tesla', 'General Motors', 'Volkswagen', 'Toyota'] \n",
    "\n",
    "for n,i in enumerate(empresas): \n",
    "    print('ID empresa:',n, '      Nombre:', i)"
   ]
  },
  {
   "cell_type": "code",
   "execution_count": 255,
   "id": "950fda3f",
   "metadata": {},
   "outputs": [
    {
     "name": "stdout",
     "output_type": "stream",
     "text": [
      "Empecemos por el análisis de las acciones de Tesla:\n",
      "Datos obtenidos de Yahoo Finance!\n",
      "Periodo a analizar: 01/01/2020 a 15/09/2021\n"
     ]
    }
   ],
   "source": [
    "print(\"Empecemos por el análisis de las acciones de Tesla:\")\n",
    "print(\"Datos obtenidos de Yahoo Finance!\")\n",
    "print(\"Periodo a analizar: 01/01/2020 a 15/09/2021\")"
   ]
  },
  {
   "cell_type": "code",
   "execution_count": 39,
   "id": "33f03f8b",
   "metadata": {},
   "outputs": [
    {
     "name": "stdout",
     "output_type": "stream",
     "text": [
      "Vista general de los datos:\n",
      "[*********************100%***********************]  1 of 1 completed\n",
      "                 Open       High        Low      Close  Adj Close     Volume\n",
      "Date                                                                        \n",
      "2020-01-02  84.900002  86.139999  84.342003  86.052002  86.052002   47660500\n",
      "2020-01-03  88.099998  90.800003  87.384003  88.601997  88.601997   88892500\n",
      "2020-01-06  88.094002  90.311996  88.000000  90.307999  90.307999   50665000\n",
      "2020-01-07  92.279999  94.325996  90.671997  93.811996  93.811996   89410500\n",
      "2020-01-08  94.739998  99.697998  93.646004  98.428001  98.428001  155721500\n",
      "<class 'pandas.core.frame.DataFrame'>\n"
     ]
    }
   ],
   "source": [
    "print(\"Vista general de los datos:\")\n",
    "start_date = '2020-01-01' \n",
    "end_date = '2021-09-15'\n",
    "\n",
    "ticker = 'TSLA' \n",
    "\n",
    "tsla = yf.download(ticker, start_date, end_date)\n",
    "\n",
    "print(tsla.head()) \n",
    "print(type(tsla)) "
   ]
  },
  {
   "cell_type": "code",
   "execution_count": 40,
   "id": "30f88715",
   "metadata": {},
   "outputs": [
    {
     "name": "stdout",
     "output_type": "stream",
     "text": [
      "Información tecnica:\n",
      "<class 'pandas.core.frame.DataFrame'>\n",
      "DatetimeIndex: 429 entries, 2020-01-02 to 2021-09-14\n",
      "Data columns (total 6 columns):\n",
      " #   Column     Non-Null Count  Dtype  \n",
      "---  ------     --------------  -----  \n",
      " 0   Open       429 non-null    float64\n",
      " 1   High       429 non-null    float64\n",
      " 2   Low        429 non-null    float64\n",
      " 3   Close      429 non-null    float64\n",
      " 4   Adj Close  429 non-null    float64\n",
      " 5   Volume     429 non-null    int64  \n",
      "dtypes: float64(5), int64(1)\n",
      "memory usage: 23.5 KB\n"
     ]
    }
   ],
   "source": [
    "print(\"Información tecnica:\")\n",
    "tsla.info()"
   ]
  },
  {
   "cell_type": "code",
   "execution_count": 41,
   "id": "ee50a050",
   "metadata": {},
   "outputs": [
    {
     "name": "stdout",
     "output_type": "stream",
     "text": [
      "Existencia de celdas vacias:\n"
     ]
    },
    {
     "data": {
      "text/plain": [
       "Open         0\n",
       "High         0\n",
       "Low          0\n",
       "Close        0\n",
       "Adj Close    0\n",
       "Volume       0\n",
       "dtype: int64"
      ]
     },
     "execution_count": 41,
     "metadata": {},
     "output_type": "execute_result"
    }
   ],
   "source": [
    "print(\"Existencia de celdas vacias:\")\n",
    "tsla.isnull().sum()"
   ]
  },
  {
   "cell_type": "code",
   "execution_count": 42,
   "id": "2e6fb866",
   "metadata": {},
   "outputs": [
    {
     "name": "stdout",
     "output_type": "stream",
     "text": [
      "Valores faltantes:\n"
     ]
    },
    {
     "data": {
      "text/plain": [
       "Open         0\n",
       "High         0\n",
       "Low          0\n",
       "Close        0\n",
       "Adj Close    0\n",
       "Volume       0\n",
       "dtype: int64"
      ]
     },
     "execution_count": 42,
     "metadata": {},
     "output_type": "execute_result"
    }
   ],
   "source": [
    "print(\"Valores faltantes:\")\n",
    "tsla.isna().sum()"
   ]
  },
  {
   "cell_type": "code",
   "execution_count": 43,
   "id": "c3b48c51",
   "metadata": {},
   "outputs": [
    {
     "name": "stdout",
     "output_type": "stream",
     "text": [
      "Estadística descriptiva del periodo analizado:\n"
     ]
    },
    {
     "data": {
      "text/html": [
       "<div>\n",
       "<style scoped>\n",
       "    .dataframe tbody tr th:only-of-type {\n",
       "        vertical-align: middle;\n",
       "    }\n",
       "\n",
       "    .dataframe tbody tr th {\n",
       "        vertical-align: top;\n",
       "    }\n",
       "\n",
       "    .dataframe thead th {\n",
       "        text-align: right;\n",
       "    }\n",
       "</style>\n",
       "<table border=\"1\" class=\"dataframe\">\n",
       "  <thead>\n",
       "    <tr style=\"text-align: right;\">\n",
       "      <th></th>\n",
       "      <th>count</th>\n",
       "      <th>mean</th>\n",
       "      <th>std</th>\n",
       "      <th>min</th>\n",
       "      <th>25%</th>\n",
       "      <th>50%</th>\n",
       "      <th>75%</th>\n",
       "      <th>max</th>\n",
       "    </tr>\n",
       "  </thead>\n",
       "  <tbody>\n",
       "    <tr>\n",
       "      <th>Open</th>\n",
       "      <td>429.0</td>\n",
       "      <td>4.575673e+02</td>\n",
       "      <td>2.447484e+02</td>\n",
       "      <td>7.494000e+01</td>\n",
       "      <td>1.835580e+02</td>\n",
       "      <td>4.479400e+02</td>\n",
       "      <td>6.757700e+02</td>\n",
       "      <td>8.913800e+02</td>\n",
       "    </tr>\n",
       "    <tr>\n",
       "      <th>High</th>\n",
       "      <td>429.0</td>\n",
       "      <td>4.678333e+02</td>\n",
       "      <td>2.484912e+02</td>\n",
       "      <td>8.097200e+01</td>\n",
       "      <td>1.900000e+02</td>\n",
       "      <td>4.577900e+02</td>\n",
       "      <td>6.900000e+02</td>\n",
       "      <td>9.004000e+02</td>\n",
       "    </tr>\n",
       "    <tr>\n",
       "      <th>Low</th>\n",
       "      <td>429.0</td>\n",
       "      <td>4.463351e+02</td>\n",
       "      <td>2.401541e+02</td>\n",
       "      <td>7.010200e+01</td>\n",
       "      <td>1.802040e+02</td>\n",
       "      <td>4.353100e+02</td>\n",
       "      <td>6.608000e+02</td>\n",
       "      <td>8.716000e+02</td>\n",
       "    </tr>\n",
       "    <tr>\n",
       "      <th>Close</th>\n",
       "      <td>429.0</td>\n",
       "      <td>4.577751e+02</td>\n",
       "      <td>2.446310e+02</td>\n",
       "      <td>7.224400e+01</td>\n",
       "      <td>1.834840e+02</td>\n",
       "      <td>4.473700e+02</td>\n",
       "      <td>6.735800e+02</td>\n",
       "      <td>8.830900e+02</td>\n",
       "    </tr>\n",
       "    <tr>\n",
       "      <th>Adj Close</th>\n",
       "      <td>429.0</td>\n",
       "      <td>4.577751e+02</td>\n",
       "      <td>2.446310e+02</td>\n",
       "      <td>7.224400e+01</td>\n",
       "      <td>1.834840e+02</td>\n",
       "      <td>4.473700e+02</td>\n",
       "      <td>6.735800e+02</td>\n",
       "      <td>8.830900e+02</td>\n",
       "    </tr>\n",
       "    <tr>\n",
       "      <th>Volume</th>\n",
       "      <td>429.0</td>\n",
       "      <td>5.600884e+07</td>\n",
       "      <td>3.936125e+07</td>\n",
       "      <td>9.800600e+06</td>\n",
       "      <td>2.713620e+07</td>\n",
       "      <td>4.427450e+07</td>\n",
       "      <td>7.797200e+07</td>\n",
       "      <td>3.046940e+08</td>\n",
       "    </tr>\n",
       "  </tbody>\n",
       "</table>\n",
       "</div>"
      ],
      "text/plain": [
       "           count          mean           std           min           25%  \\\n",
       "Open       429.0  4.575673e+02  2.447484e+02  7.494000e+01  1.835580e+02   \n",
       "High       429.0  4.678333e+02  2.484912e+02  8.097200e+01  1.900000e+02   \n",
       "Low        429.0  4.463351e+02  2.401541e+02  7.010200e+01  1.802040e+02   \n",
       "Close      429.0  4.577751e+02  2.446310e+02  7.224400e+01  1.834840e+02   \n",
       "Adj Close  429.0  4.577751e+02  2.446310e+02  7.224400e+01  1.834840e+02   \n",
       "Volume     429.0  5.600884e+07  3.936125e+07  9.800600e+06  2.713620e+07   \n",
       "\n",
       "                    50%           75%           max  \n",
       "Open       4.479400e+02  6.757700e+02  8.913800e+02  \n",
       "High       4.577900e+02  6.900000e+02  9.004000e+02  \n",
       "Low        4.353100e+02  6.608000e+02  8.716000e+02  \n",
       "Close      4.473700e+02  6.735800e+02  8.830900e+02  \n",
       "Adj Close  4.473700e+02  6.735800e+02  8.830900e+02  \n",
       "Volume     4.427450e+07  7.797200e+07  3.046940e+08  "
      ]
     },
     "execution_count": 43,
     "metadata": {},
     "output_type": "execute_result"
    }
   ],
   "source": [
    "print (\"Estadística descriptiva del periodo analizado:\")\n",
    "tsla.describe().T"
   ]
  },
  {
   "cell_type": "code",
   "execution_count": 262,
   "id": "74bab3ef",
   "metadata": {},
   "outputs": [
    {
     "name": "stdout",
     "output_type": "stream",
     "text": [
      "Gráfico de la cantidad de acciones negociadas durante el periodo:\n"
     ]
    },
    {
     "data": {
      "image/png": "[encoded data removed]",
      "text/plain": [
       "<Figure size 864x576 with 1 Axes>"
      ]
     },
     "metadata": {
      "needs_background": "light"
     },
     "output_type": "display_data"
    }
   ],
   "source": [
    "print (\"Gráfico de la cantidad de acciones negociadas durante el periodo:\")\n",
    "tsla['Volume'].plot(figsize=(12, 8), color = 'darkblue')\n",
    "plt.title(\"Volumen de las acciones de Tesla (%s)\" % ticker, fontsize=16)\n",
    "plt.ylabel('Volumen', fontsize=14)\n",
    "plt.xlabel('Tiempo', fontsize=14)\n",
    "plt.grid(which=\"major\", color='k', linestyle='-.', linewidth=0.5) \n",
    "plt.show()"
   ]
  },
  {
   "cell_type": "code",
   "execution_count": 50,
   "id": "dce34c83",
   "metadata": {},
   "outputs": [
    {
     "name": "stdout",
     "output_type": "stream",
     "text": [
      "Histograma de distribución del volumen:\n",
      "frecuencia relativa\n"
     ]
    },
    {
     "data": {
      "image/png": "[encoded data removed]",
      "text/plain": [
       "<Figure size 432x288 with 1 Axes>"
      ]
     },
     "metadata": {
      "needs_background": "light"
     },
     "output_type": "display_data"
    }
   ],
   "source": [
    "print(\"Histograma de distribución del volumen:\")  \n",
    "print (\"frecuencia relativa\")\n",
    "tsla['Volume'].hist(bins='sturges', density = True, color = 'purple', alpha = 0.3)\n",
    "plt.title('Histograma del volumen de Tesla')\n",
    "plt.xlabel('Clases')\n",
    "plt.ylabel('Frecuencia')\n",
    "plt.show()\n"
   ]
  },
  {
   "cell_type": "code",
   "execution_count": 70,
   "id": "dc65d188",
   "metadata": {},
   "outputs": [
    {
     "name": "stdout",
     "output_type": "stream",
     "text": [
      "Histograma de distribución del volumen:\n",
      "frecuencia acumulada\n"
     ]
    },
    {
     "data": {
      "image/png": "[encoded data removed]",
      "text/plain": [
       "<Figure size 432x288 with 1 Axes>"
      ]
     },
     "metadata": {
      "needs_background": "light"
     },
     "output_type": "display_data"
    }
   ],
   "source": [
    "print(\"Histograma de distribución del volumen:\")  \n",
    "print (\"frecuencia acumulada\")\n",
    "tsla['Volume'].hist(bins='sturges', density = True,cumulative= True, color = 'purple', alpha = 0.2)\n",
    "plt.title('Histograma del volumen de Tesla')\n",
    "plt.xlabel('Clases')\n",
    "plt.ylabel('Frecuencia')\n",
    "plt.show()"
   ]
  },
  {
   "cell_type": "code",
   "execution_count": 261,
   "id": "155224f2",
   "metadata": {},
   "outputs": [
    {
     "name": "stdout",
     "output_type": "stream",
     "text": [
      "Gráfica del precio de cierre ajustado:\n"
     ]
    },
    {
     "data": {
      "image/png": "[encoded data removed]",
      "text/plain": [
       "<Figure size 864x576 with 1 Axes>"
      ]
     },
     "metadata": {
      "needs_background": "light"
     },
     "output_type": "display_data"
    }
   ],
   "source": [
    "print(\"Gráfica del precio de cierre ajustado:\")\n",
    "tsla['Adj Close'].plot(figsize=(12, 8), color = 'pink')\n",
    "plt.title(\"Precio de cierre ajustado de Tesla (%s)\" % ticker, fontsize=16)\n",
    "plt.ylabel('Precio', fontsize=14)\n",
    "plt.xlabel('Tiempo', fontsize=14)\n",
    "plt.grid(which=\"major\", color='k', linestyle='-.', linewidth=0.8) \n",
    "plt.show()"
   ]
  },
  {
   "cell_type": "code",
   "execution_count": 75,
   "id": "b98ae4a6",
   "metadata": {},
   "outputs": [
    {
     "name": "stdout",
     "output_type": "stream",
     "text": [
      "Histograma de distribución del precio de cierre ajustado:\n",
      "frecuencia relativa\n"
     ]
    },
    {
     "data": {
      "image/png": "[encoded data removed]",
      "text/plain": [
       "<Figure size 432x288 with 1 Axes>"
      ]
     },
     "metadata": {
      "needs_background": "light"
     },
     "output_type": "display_data"
    }
   ],
   "source": [
    "print(\"Histograma de distribución del precio de cierre ajustado:\")  \n",
    "print (\"frecuencia relativa\")\n",
    "tsla['Adj Close'].hist(bins='sturges', density = True, color = 'blue', alpha = 0.4)\n",
    "plt.title('Histograma del precio ajustado de Tesla')\n",
    "plt.xlabel('Clases')\n",
    "plt.ylabel('Frecuencia')\n",
    "plt.show()"
   ]
  },
  {
   "cell_type": "code",
   "execution_count": 78,
   "id": "abc870d3",
   "metadata": {},
   "outputs": [
    {
     "name": "stdout",
     "output_type": "stream",
     "text": [
      "Histograma de distribución del precio de cierre ajustado:\n",
      "frecuencia acumulada\n"
     ]
    },
    {
     "data": {
      "image/png": "[encoded data removed]",
      "text/plain": [
       "<Figure size 432x288 with 1 Axes>"
      ]
     },
     "metadata": {
      "needs_background": "light"
     },
     "output_type": "display_data"
    }
   ],
   "source": [
    "print(\"Histograma de distribución del precio de cierre ajustado:\")  \n",
    "print (\"frecuencia acumulada\")\n",
    "tsla['Adj Close'].hist(bins='sturges', density = True,cumulative= True, color = 'blue', alpha = 0.3)\n",
    "plt.title('Histograma del precio de cierre ajustado de Tesla')\n",
    "plt.xlabel('Clases')\n",
    "plt.ylabel('Frecuencia')\n",
    "plt.show()"
   ]
  },
  {
   "cell_type": "code",
   "execution_count": 263,
   "id": "0468dfef",
   "metadata": {},
   "outputs": [
    {
     "name": "stdout",
     "output_type": "stream",
     "text": [
      "Que ha pasado con el precio de cierre de ajuste de Tesla este 2021:\n"
     ]
    },
    {
     "name": "stderr",
     "output_type": "stream",
     "text": [
      "<ipython-input-263-55def16230ff>:2: FutureWarning: Indexing a DataFrame with a datetimelike index using a single string to slice the rows, like `frame[string]`, is deprecated and will be removed in a future version. Use `frame.loc[string]` instead.\n",
      "  tsla['2021']['Adj Close'].plot(figsize=(12, 8), color = 'orange')\n"
     ]
    },
    {
     "data": {
      "image/png": "[encoded data removed]",
      "text/plain": [
       "<Figure size 864x576 with 1 Axes>"
      ]
     },
     "metadata": {
      "needs_background": "light"
     },
     "output_type": "display_data"
    }
   ],
   "source": [
    "print (\"Que ha pasado con el precio de cierre de ajuste de Tesla este 2021:\")\n",
    "tsla['2021']['Adj Close'].plot(figsize=(12, 8), color = 'orange')\n",
    "plt.title(\"Precio de cierre ajustado de Tesla (%s)\" % ticker, fontsize=16)\n",
    "plt.ylabel('Precio', fontsize=14)\n",
    "plt.xlabel('Tiempo', fontsize=14)\n",
    "plt.grid(which=\"major\", color='k', linestyle='-.', linewidth=0.5)\n",
    "plt.show()"
   ]
  },
  {
   "cell_type": "code",
   "execution_count": 264,
   "id": "4572225d",
   "metadata": {},
   "outputs": [
    {
     "name": "stdout",
     "output_type": "stream",
     "text": [
      "Comparar el crecimiento de las acciones de las empresas ejemplo con el índice Nasdaq: \n",
      "[*********************100%***********************]  1 of 1 completed\n",
      "[*********************100%***********************]  1 of 1 completed\n",
      "[*********************100%***********************]  1 of 1 completed\n",
      "[*********************100%***********************]  1 of 1 completed\n"
     ]
    },
    {
     "data": {
      "text/html": [
       "<div>\n",
       "<style scoped>\n",
       "    .dataframe tbody tr th:only-of-type {\n",
       "        vertical-align: middle;\n",
       "    }\n",
       "\n",
       "    .dataframe tbody tr th {\n",
       "        vertical-align: top;\n",
       "    }\n",
       "\n",
       "    .dataframe thead th {\n",
       "        text-align: right;\n",
       "    }\n",
       "</style>\n",
       "<table border=\"1\" class=\"dataframe\">\n",
       "  <thead>\n",
       "    <tr style=\"text-align: right;\">\n",
       "      <th></th>\n",
       "      <th>TSLA</th>\n",
       "      <th>GM</th>\n",
       "      <th>TM</th>\n",
       "      <th>NDAQ</th>\n",
       "    </tr>\n",
       "    <tr>\n",
       "      <th>Date</th>\n",
       "      <th></th>\n",
       "      <th></th>\n",
       "      <th></th>\n",
       "      <th></th>\n",
       "    </tr>\n",
       "  </thead>\n",
       "  <tbody>\n",
       "    <tr>\n",
       "      <th>2020-01-02</th>\n",
       "      <td>86.052002</td>\n",
       "      <td>36.929497</td>\n",
       "      <td>142.240005</td>\n",
       "      <td>105.079201</td>\n",
       "    </tr>\n",
       "    <tr>\n",
       "      <th>2020-01-03</th>\n",
       "      <td>88.601997</td>\n",
       "      <td>35.882271</td>\n",
       "      <td>140.750000</td>\n",
       "      <td>105.527512</td>\n",
       "    </tr>\n",
       "    <tr>\n",
       "      <th>2020-01-06</th>\n",
       "      <td>90.307999</td>\n",
       "      <td>35.408058</td>\n",
       "      <td>140.770004</td>\n",
       "      <td>105.459305</td>\n",
       "    </tr>\n",
       "    <tr>\n",
       "      <th>2020-01-07</th>\n",
       "      <td>93.811996</td>\n",
       "      <td>34.726376</td>\n",
       "      <td>141.509995</td>\n",
       "      <td>103.714790</td>\n",
       "    </tr>\n",
       "    <tr>\n",
       "      <th>2020-01-08</th>\n",
       "      <td>98.428001</td>\n",
       "      <td>34.232399</td>\n",
       "      <td>141.160004</td>\n",
       "      <td>103.139801</td>\n",
       "    </tr>\n",
       "  </tbody>\n",
       "</table>\n",
       "</div>"
      ],
      "text/plain": [
       "                 TSLA         GM          TM        NDAQ\n",
       "Date                                                    \n",
       "2020-01-02  86.052002  36.929497  142.240005  105.079201\n",
       "2020-01-03  88.601997  35.882271  140.750000  105.527512\n",
       "2020-01-06  90.307999  35.408058  140.770004  105.459305\n",
       "2020-01-07  93.811996  34.726376  141.509995  103.714790\n",
       "2020-01-08  98.428001  34.232399  141.160004  103.139801"
      ]
     },
     "execution_count": 264,
     "metadata": {},
     "output_type": "execute_result"
    }
   ],
   "source": [
    "print (\"Comparar el crecimiento de las acciones de las empresas ejemplo con el índice Nasdaq: \")\n",
    "\n",
    "start_date = '2020-01-01' \n",
    "end_date = '2021-09-15'\n",
    "\n",
    "tickers_list = ['TSLA', 'GM', 'TM', 'NDAQ']\n",
    "\n",
    "stocks = pd.DataFrame(columns=tickers_list)\n",
    "\n",
    "for ticker in tickers_list: \n",
    "    stocks[ticker] = yf.download(ticker, \n",
    "                               start_date,\n",
    "                               end_date)['Adj Close']\n",
    "stocks.head()"
   ]
  },
  {
   "cell_type": "code",
   "execution_count": 103,
   "id": "daaf87f6",
   "metadata": {},
   "outputs": [
    {
     "name": "stdout",
     "output_type": "stream",
     "text": [
      "Primero normalizamos precios:\n"
     ]
    },
    {
     "data": {
      "image/png": "[encoded data removed]",
      "text/plain": [
       "<Figure size 432x288 with 1 Axes>"
      ]
     },
     "metadata": {
      "needs_background": "light"
     },
     "output_type": "display_data"
    }
   ],
   "source": [
    "print (\"Primero normalizamos precios:\")\n",
    "norm = stocks.div(stocks.iloc[0]).mul(100)\n",
    "norm.plot(subplots=False)\n",
    "plt.axhline(y=100, color=\"green\", linestyle=\"--\", linewidth=1)\n",
    "plt.show()"
   ]
  },
  {
   "cell_type": "code",
   "execution_count": 105,
   "id": "686e964e",
   "metadata": {},
   "outputs": [
    {
     "name": "stdout",
     "output_type": "stream",
     "text": [
      "Comparación con el benchmark: Nasdaq\n"
     ]
    },
    {
     "data": {
      "image/png": "[encoded data removed]",
      "text/plain": [
       "<Figure size 432x288 with 1 Axes>"
      ]
     },
     "metadata": {
      "needs_background": "light"
     },
     "output_type": "display_data"
    }
   ],
   "source": [
    "print (\"Comparación con el benchmark: Nasdaq\")\n",
    "tickers = [\"TSLA\", \"GM\", \"TM\"]\n",
    "bench = norm[tickers].sub(norm[\"NDAQ\"], axis=0)\n",
    "bench.plot(subplots=False)\n",
    "plt.axhline(y=0, color=\"black\", linestyle=\"--\", linewidth=1)\n",
    "plt.show()\n"
   ]
  },
  {
   "cell_type": "code",
   "execution_count": 193,
   "id": "193b0168",
   "metadata": {},
   "outputs": [
    {
     "name": "stdout",
     "output_type": "stream",
     "text": [
      "Hasta aquí es una pequeña muestra de los datos, gráficos y estadísticas que podemos brindar de las acciones.\n",
      "Cabe señalar que al suscribirte contaras con una variedad más amplia de información y cálculos.\n"
     ]
    }
   ],
   "source": [
    "print (\"Hasta aquí es una pequeña muestra de los datos, gráficos y estadísticas que podemos brindar de las acciones.\")\n",
    "print (\"Cabe señalar que al suscribirte contaras con una variedad más amplia de información y cálculos.\")"
   ]
  },
  {
   "cell_type": "code",
   "execution_count": 265,
   "id": "e268872b",
   "metadata": {},
   "outputs": [
    {
     "name": "stdout",
     "output_type": "stream",
     "text": [
      "Ahora, una muestra del análisis de una base de datos de las ventas en un supermercado.\n"
     ]
    }
   ],
   "source": [
    "print (\"Ahora, una muestra del análisis de una base de datos de las ventas en un supermercado.\")"
   ]
  },
  {
   "cell_type": "code",
   "execution_count": 130,
   "id": "055cc9fd",
   "metadata": {},
   "outputs": [],
   "source": [
    "df = pd.read_csv('supermarket_sales - Sheet1.csv', index_col=0)"
   ]
  },
  {
   "cell_type": "code",
   "execution_count": 132,
   "id": "e70c8308",
   "metadata": {},
   "outputs": [
    {
     "name": "stdout",
     "output_type": "stream",
     "text": [
      "Vista general de los datos:\n"
     ]
    },
    {
     "data": {
      "text/html": [
       "<div>\n",
       "<style scoped>\n",
       "    .dataframe tbody tr th:only-of-type {\n",
       "        vertical-align: middle;\n",
       "    }\n",
       "\n",
       "    .dataframe tbody tr th {\n",
       "        vertical-align: top;\n",
       "    }\n",
       "\n",
       "    .dataframe thead th {\n",
       "        text-align: right;\n",
       "    }\n",
       "</style>\n",
       "<table border=\"1\" class=\"dataframe\">\n",
       "  <thead>\n",
       "    <tr style=\"text-align: right;\">\n",
       "      <th></th>\n",
       "      <th>Branch</th>\n",
       "      <th>City</th>\n",
       "      <th>Customer type</th>\n",
       "      <th>Gender</th>\n",
       "      <th>Product line</th>\n",
       "      <th>Unit price</th>\n",
       "      <th>Quantity</th>\n",
       "      <th>Tax 5%</th>\n",
       "      <th>Total</th>\n",
       "      <th>Date</th>\n",
       "      <th>Time</th>\n",
       "      <th>Payment</th>\n",
       "      <th>cogs</th>\n",
       "      <th>gross margin percentage</th>\n",
       "      <th>gross income</th>\n",
       "      <th>Rating</th>\n",
       "    </tr>\n",
       "    <tr>\n",
       "      <th>Invoice ID</th>\n",
       "      <th></th>\n",
       "      <th></th>\n",
       "      <th></th>\n",
       "      <th></th>\n",
       "      <th></th>\n",
       "      <th></th>\n",
       "      <th></th>\n",
       "      <th></th>\n",
       "      <th></th>\n",
       "      <th></th>\n",
       "      <th></th>\n",
       "      <th></th>\n",
       "      <th></th>\n",
       "      <th></th>\n",
       "      <th></th>\n",
       "      <th></th>\n",
       "    </tr>\n",
       "  </thead>\n",
       "  <tbody>\n",
       "    <tr>\n",
       "      <th>750-67-8428</th>\n",
       "      <td>A</td>\n",
       "      <td>Yangon</td>\n",
       "      <td>Member</td>\n",
       "      <td>Female</td>\n",
       "      <td>Health and beauty</td>\n",
       "      <td>74.69</td>\n",
       "      <td>7</td>\n",
       "      <td>26.1415</td>\n",
       "      <td>548.9715</td>\n",
       "      <td>1/5/2019</td>\n",
       "      <td>13:08</td>\n",
       "      <td>Ewallet</td>\n",
       "      <td>522.83</td>\n",
       "      <td>4.761905</td>\n",
       "      <td>26.1415</td>\n",
       "      <td>9.1</td>\n",
       "    </tr>\n",
       "    <tr>\n",
       "      <th>226-31-3081</th>\n",
       "      <td>C</td>\n",
       "      <td>Naypyitaw</td>\n",
       "      <td>Normal</td>\n",
       "      <td>Female</td>\n",
       "      <td>Electronic accessories</td>\n",
       "      <td>15.28</td>\n",
       "      <td>5</td>\n",
       "      <td>3.8200</td>\n",
       "      <td>80.2200</td>\n",
       "      <td>3/8/2019</td>\n",
       "      <td>10:29</td>\n",
       "      <td>Cash</td>\n",
       "      <td>76.40</td>\n",
       "      <td>4.761905</td>\n",
       "      <td>3.8200</td>\n",
       "      <td>9.6</td>\n",
       "    </tr>\n",
       "    <tr>\n",
       "      <th>631-41-3108</th>\n",
       "      <td>A</td>\n",
       "      <td>Yangon</td>\n",
       "      <td>Normal</td>\n",
       "      <td>Male</td>\n",
       "      <td>Home and lifestyle</td>\n",
       "      <td>46.33</td>\n",
       "      <td>7</td>\n",
       "      <td>16.2155</td>\n",
       "      <td>340.5255</td>\n",
       "      <td>3/3/2019</td>\n",
       "      <td>13:23</td>\n",
       "      <td>Credit card</td>\n",
       "      <td>324.31</td>\n",
       "      <td>4.761905</td>\n",
       "      <td>16.2155</td>\n",
       "      <td>7.4</td>\n",
       "    </tr>\n",
       "    <tr>\n",
       "      <th>123-19-1176</th>\n",
       "      <td>A</td>\n",
       "      <td>Yangon</td>\n",
       "      <td>Member</td>\n",
       "      <td>Male</td>\n",
       "      <td>Health and beauty</td>\n",
       "      <td>58.22</td>\n",
       "      <td>8</td>\n",
       "      <td>23.2880</td>\n",
       "      <td>489.0480</td>\n",
       "      <td>1/27/2019</td>\n",
       "      <td>20:33</td>\n",
       "      <td>Ewallet</td>\n",
       "      <td>465.76</td>\n",
       "      <td>4.761905</td>\n",
       "      <td>23.2880</td>\n",
       "      <td>8.4</td>\n",
       "    </tr>\n",
       "    <tr>\n",
       "      <th>373-73-7910</th>\n",
       "      <td>A</td>\n",
       "      <td>Yangon</td>\n",
       "      <td>Normal</td>\n",
       "      <td>Male</td>\n",
       "      <td>Sports and travel</td>\n",
       "      <td>86.31</td>\n",
       "      <td>7</td>\n",
       "      <td>30.2085</td>\n",
       "      <td>634.3785</td>\n",
       "      <td>2/8/2019</td>\n",
       "      <td>10:37</td>\n",
       "      <td>Ewallet</td>\n",
       "      <td>604.17</td>\n",
       "      <td>4.761905</td>\n",
       "      <td>30.2085</td>\n",
       "      <td>5.3</td>\n",
       "    </tr>\n",
       "    <tr>\n",
       "      <th>...</th>\n",
       "      <td>...</td>\n",
       "      <td>...</td>\n",
       "      <td>...</td>\n",
       "      <td>...</td>\n",
       "      <td>...</td>\n",
       "      <td>...</td>\n",
       "      <td>...</td>\n",
       "      <td>...</td>\n",
       "      <td>...</td>\n",
       "      <td>...</td>\n",
       "      <td>...</td>\n",
       "      <td>...</td>\n",
       "      <td>...</td>\n",
       "      <td>...</td>\n",
       "      <td>...</td>\n",
       "      <td>...</td>\n",
       "    </tr>\n",
       "    <tr>\n",
       "      <th>233-67-5758</th>\n",
       "      <td>C</td>\n",
       "      <td>Naypyitaw</td>\n",
       "      <td>Normal</td>\n",
       "      <td>Male</td>\n",
       "      <td>Health and beauty</td>\n",
       "      <td>40.35</td>\n",
       "      <td>1</td>\n",
       "      <td>2.0175</td>\n",
       "      <td>42.3675</td>\n",
       "      <td>1/29/2019</td>\n",
       "      <td>13:46</td>\n",
       "      <td>Ewallet</td>\n",
       "      <td>40.35</td>\n",
       "      <td>4.761905</td>\n",
       "      <td>2.0175</td>\n",
       "      <td>6.2</td>\n",
       "    </tr>\n",
       "    <tr>\n",
       "      <th>303-96-2227</th>\n",
       "      <td>B</td>\n",
       "      <td>Mandalay</td>\n",
       "      <td>Normal</td>\n",
       "      <td>Female</td>\n",
       "      <td>Home and lifestyle</td>\n",
       "      <td>97.38</td>\n",
       "      <td>10</td>\n",
       "      <td>48.6900</td>\n",
       "      <td>1022.4900</td>\n",
       "      <td>3/2/2019</td>\n",
       "      <td>17:16</td>\n",
       "      <td>Ewallet</td>\n",
       "      <td>973.80</td>\n",
       "      <td>4.761905</td>\n",
       "      <td>48.6900</td>\n",
       "      <td>4.4</td>\n",
       "    </tr>\n",
       "    <tr>\n",
       "      <th>727-02-1313</th>\n",
       "      <td>A</td>\n",
       "      <td>Yangon</td>\n",
       "      <td>Member</td>\n",
       "      <td>Male</td>\n",
       "      <td>Food and beverages</td>\n",
       "      <td>31.84</td>\n",
       "      <td>1</td>\n",
       "      <td>1.5920</td>\n",
       "      <td>33.4320</td>\n",
       "      <td>2/9/2019</td>\n",
       "      <td>13:22</td>\n",
       "      <td>Cash</td>\n",
       "      <td>31.84</td>\n",
       "      <td>4.761905</td>\n",
       "      <td>1.5920</td>\n",
       "      <td>7.7</td>\n",
       "    </tr>\n",
       "    <tr>\n",
       "      <th>347-56-2442</th>\n",
       "      <td>A</td>\n",
       "      <td>Yangon</td>\n",
       "      <td>Normal</td>\n",
       "      <td>Male</td>\n",
       "      <td>Home and lifestyle</td>\n",
       "      <td>65.82</td>\n",
       "      <td>1</td>\n",
       "      <td>3.2910</td>\n",
       "      <td>69.1110</td>\n",
       "      <td>2/22/2019</td>\n",
       "      <td>15:33</td>\n",
       "      <td>Cash</td>\n",
       "      <td>65.82</td>\n",
       "      <td>4.761905</td>\n",
       "      <td>3.2910</td>\n",
       "      <td>4.1</td>\n",
       "    </tr>\n",
       "    <tr>\n",
       "      <th>849-09-3807</th>\n",
       "      <td>A</td>\n",
       "      <td>Yangon</td>\n",
       "      <td>Member</td>\n",
       "      <td>Female</td>\n",
       "      <td>Fashion accessories</td>\n",
       "      <td>88.34</td>\n",
       "      <td>7</td>\n",
       "      <td>30.9190</td>\n",
       "      <td>649.2990</td>\n",
       "      <td>2/18/2019</td>\n",
       "      <td>13:28</td>\n",
       "      <td>Cash</td>\n",
       "      <td>618.38</td>\n",
       "      <td>4.761905</td>\n",
       "      <td>30.9190</td>\n",
       "      <td>6.6</td>\n",
       "    </tr>\n",
       "  </tbody>\n",
       "</table>\n",
       "<p>1000 rows × 16 columns</p>\n",
       "</div>"
      ],
      "text/plain": [
       "            Branch       City Customer type  Gender            Product line  \\\n",
       "Invoice ID                                                                    \n",
       "750-67-8428      A     Yangon        Member  Female       Health and beauty   \n",
       "226-31-3081      C  Naypyitaw        Normal  Female  Electronic accessories   \n",
       "631-41-3108      A     Yangon        Normal    Male      Home and lifestyle   \n",
       "123-19-1176      A     Yangon        Member    Male       Health and beauty   \n",
       "373-73-7910      A     Yangon        Normal    Male       Sports and travel   \n",
       "...            ...        ...           ...     ...                     ...   \n",
       "233-67-5758      C  Naypyitaw        Normal    Male       Health and beauty   \n",
       "303-96-2227      B   Mandalay        Normal  Female      Home and lifestyle   \n",
       "727-02-1313      A     Yangon        Member    Male      Food and beverages   \n",
       "347-56-2442      A     Yangon        Normal    Male      Home and lifestyle   \n",
       "849-09-3807      A     Yangon        Member  Female     Fashion accessories   \n",
       "\n",
       "             Unit price  Quantity   Tax 5%      Total       Date   Time  \\\n",
       "Invoice ID                                                                \n",
       "750-67-8428       74.69         7  26.1415   548.9715   1/5/2019  13:08   \n",
       "226-31-3081       15.28         5   3.8200    80.2200   3/8/2019  10:29   \n",
       "631-41-3108       46.33         7  16.2155   340.5255   3/3/2019  13:23   \n",
       "123-19-1176       58.22         8  23.2880   489.0480  1/27/2019  20:33   \n",
       "373-73-7910       86.31         7  30.2085   634.3785   2/8/2019  10:37   \n",
       "...                 ...       ...      ...        ...        ...    ...   \n",
       "233-67-5758       40.35         1   2.0175    42.3675  1/29/2019  13:46   \n",
       "303-96-2227       97.38        10  48.6900  1022.4900   3/2/2019  17:16   \n",
       "727-02-1313       31.84         1   1.5920    33.4320   2/9/2019  13:22   \n",
       "347-56-2442       65.82         1   3.2910    69.1110  2/22/2019  15:33   \n",
       "849-09-3807       88.34         7  30.9190   649.2990  2/18/2019  13:28   \n",
       "\n",
       "                 Payment    cogs  gross margin percentage  gross income  \\\n",
       "Invoice ID                                                                \n",
       "750-67-8428      Ewallet  522.83                 4.761905       26.1415   \n",
       "226-31-3081         Cash   76.40                 4.761905        3.8200   \n",
       "631-41-3108  Credit card  324.31                 4.761905       16.2155   \n",
       "123-19-1176      Ewallet  465.76                 4.761905       23.2880   \n",
       "373-73-7910      Ewallet  604.17                 4.761905       30.2085   \n",
       "...                  ...     ...                      ...           ...   \n",
       "233-67-5758      Ewallet   40.35                 4.761905        2.0175   \n",
       "303-96-2227      Ewallet  973.80                 4.761905       48.6900   \n",
       "727-02-1313         Cash   31.84                 4.761905        1.5920   \n",
       "347-56-2442         Cash   65.82                 4.761905        3.2910   \n",
       "849-09-3807         Cash  618.38                 4.761905       30.9190   \n",
       "\n",
       "             Rating  \n",
       "Invoice ID           \n",
       "750-67-8428     9.1  \n",
       "226-31-3081     9.6  \n",
       "631-41-3108     7.4  \n",
       "123-19-1176     8.4  \n",
       "373-73-7910     5.3  \n",
       "...             ...  \n",
       "233-67-5758     6.2  \n",
       "303-96-2227     4.4  \n",
       "727-02-1313     7.7  \n",
       "347-56-2442     4.1  \n",
       "849-09-3807     6.6  \n",
       "\n",
       "[1000 rows x 16 columns]"
      ]
     },
     "execution_count": 132,
     "metadata": {},
     "output_type": "execute_result"
    }
   ],
   "source": [
    "print (\"Vista general de los datos:\")\n",
    "df"
   ]
  },
  {
   "cell_type": "code",
   "execution_count": 266,
   "id": "0b0184e2",
   "metadata": {},
   "outputs": [
    {
     "name": "stdout",
     "output_type": "stream",
     "text": [
      "Los primeros 5 productos y sus precios: \n"
     ]
    },
    {
     "data": {
      "text/plain": [
       "Invoice ID\n",
       "750-67-8428    74.69\n",
       "226-31-3081    15.28\n",
       "631-41-3108    46.33\n",
       "123-19-1176    58.22\n",
       "373-73-7910    86.31\n",
       "Name: Unit price, dtype: float64"
      ]
     },
     "execution_count": 266,
     "metadata": {},
     "output_type": "execute_result"
    }
   ],
   "source": [
    "print (\"Los primeros 5 productos y sus precios: \")\n",
    "df['Unit price'].head()"
   ]
  },
  {
   "cell_type": "code",
   "execution_count": 133,
   "id": "c6ccb390",
   "metadata": {},
   "outputs": [
    {
     "name": "stdout",
     "output_type": "stream",
     "text": [
      "Información tecnica:\n",
      "<class 'pandas.core.frame.DataFrame'>\n",
      "Index: 1000 entries, 750-67-8428 to 849-09-3807\n",
      "Data columns (total 16 columns):\n",
      " #   Column                   Non-Null Count  Dtype  \n",
      "---  ------                   --------------  -----  \n",
      " 0   Branch                   1000 non-null   object \n",
      " 1   City                     1000 non-null   object \n",
      " 2   Customer type            1000 non-null   object \n",
      " 3   Gender                   1000 non-null   object \n",
      " 4   Product line             1000 non-null   object \n",
      " 5   Unit price               1000 non-null   float64\n",
      " 6   Quantity                 1000 non-null   int64  \n",
      " 7   Tax 5%                   1000 non-null   float64\n",
      " 8   Total                    1000 non-null   float64\n",
      " 9   Date                     1000 non-null   object \n",
      " 10  Time                     1000 non-null   object \n",
      " 11  Payment                  1000 non-null   object \n",
      " 12  cogs                     1000 non-null   float64\n",
      " 13  gross margin percentage  1000 non-null   float64\n",
      " 14  gross income             1000 non-null   float64\n",
      " 15  Rating                   1000 non-null   float64\n",
      "dtypes: float64(7), int64(1), object(8)\n",
      "memory usage: 132.8+ KB\n"
     ]
    }
   ],
   "source": [
    "print(\"Información tecnica:\")\n",
    "df.info()"
   ]
  },
  {
   "cell_type": "code",
   "execution_count": 134,
   "id": "eb687d09",
   "metadata": {},
   "outputs": [
    {
     "name": "stdout",
     "output_type": "stream",
     "text": [
      "Filas y Columnas:\n"
     ]
    },
    {
     "data": {
      "text/plain": [
       "(1000, 16)"
      ]
     },
     "execution_count": 134,
     "metadata": {},
     "output_type": "execute_result"
    }
   ],
   "source": [
    "print(\"Filas y Columnas:\")\n",
    "df.shape"
   ]
  },
  {
   "cell_type": "code",
   "execution_count": 135,
   "id": "21d3315f",
   "metadata": {},
   "outputs": [
    {
     "name": "stdout",
     "output_type": "stream",
     "text": [
      "Las variables que muestra la base de datos:\n"
     ]
    },
    {
     "data": {
      "text/plain": [
       "Index(['Branch', 'City', 'Customer type', 'Gender', 'Product line',\n",
       "       'Unit price', 'Quantity', 'Tax 5%', 'Total', 'Date', 'Time', 'Payment',\n",
       "       'cogs', 'gross margin percentage', 'gross income', 'Rating'],\n",
       "      dtype='object')"
      ]
     },
     "execution_count": 135,
     "metadata": {},
     "output_type": "execute_result"
    }
   ],
   "source": [
    "print(\"Las variables que muestra la base de datos:\")\n",
    "df.columns"
   ]
  },
  {
   "cell_type": "code",
   "execution_count": 192,
   "id": "290b2f92",
   "metadata": {
    "scrolled": true
   },
   "outputs": [
    {
     "name": "stdout",
     "output_type": "stream",
     "text": [
      "Estadística descriptiva de variables cuantitativas relevantes:\n"
     ]
    },
    {
     "data": {
      "text/html": [
       "<div>\n",
       "<style scoped>\n",
       "    .dataframe tbody tr th:only-of-type {\n",
       "        vertical-align: middle;\n",
       "    }\n",
       "\n",
       "    .dataframe tbody tr th {\n",
       "        vertical-align: top;\n",
       "    }\n",
       "\n",
       "    .dataframe thead th {\n",
       "        text-align: right;\n",
       "    }\n",
       "</style>\n",
       "<table border=\"1\" class=\"dataframe\">\n",
       "  <thead>\n",
       "    <tr style=\"text-align: right;\">\n",
       "      <th></th>\n",
       "      <th>count</th>\n",
       "      <th>mean</th>\n",
       "      <th>std</th>\n",
       "      <th>min</th>\n",
       "      <th>25%</th>\n",
       "      <th>50%</th>\n",
       "      <th>75%</th>\n",
       "      <th>max</th>\n",
       "    </tr>\n",
       "  </thead>\n",
       "  <tbody>\n",
       "    <tr>\n",
       "      <th>Unit price</th>\n",
       "      <td>1000.0</td>\n",
       "      <td>55.672130</td>\n",
       "      <td>2.649463e+01</td>\n",
       "      <td>10.080000</td>\n",
       "      <td>32.875000</td>\n",
       "      <td>55.230000</td>\n",
       "      <td>77.935000</td>\n",
       "      <td>99.960000</td>\n",
       "    </tr>\n",
       "    <tr>\n",
       "      <th>Quantity</th>\n",
       "      <td>1000.0</td>\n",
       "      <td>5.510000</td>\n",
       "      <td>2.923431e+00</td>\n",
       "      <td>1.000000</td>\n",
       "      <td>3.000000</td>\n",
       "      <td>5.000000</td>\n",
       "      <td>8.000000</td>\n",
       "      <td>10.000000</td>\n",
       "    </tr>\n",
       "    <tr>\n",
       "      <th>Tax 5%</th>\n",
       "      <td>1000.0</td>\n",
       "      <td>15.379369</td>\n",
       "      <td>1.170883e+01</td>\n",
       "      <td>0.508500</td>\n",
       "      <td>5.924875</td>\n",
       "      <td>12.088000</td>\n",
       "      <td>22.445250</td>\n",
       "      <td>49.650000</td>\n",
       "    </tr>\n",
       "    <tr>\n",
       "      <th>Total</th>\n",
       "      <td>1000.0</td>\n",
       "      <td>322.966749</td>\n",
       "      <td>2.458853e+02</td>\n",
       "      <td>10.678500</td>\n",
       "      <td>124.422375</td>\n",
       "      <td>253.848000</td>\n",
       "      <td>471.350250</td>\n",
       "      <td>1042.650000</td>\n",
       "    </tr>\n",
       "    <tr>\n",
       "      <th>cogs</th>\n",
       "      <td>1000.0</td>\n",
       "      <td>307.587380</td>\n",
       "      <td>2.341765e+02</td>\n",
       "      <td>10.170000</td>\n",
       "      <td>118.497500</td>\n",
       "      <td>241.760000</td>\n",
       "      <td>448.905000</td>\n",
       "      <td>993.000000</td>\n",
       "    </tr>\n",
       "    <tr>\n",
       "      <th>gross margin percentage</th>\n",
       "      <td>1000.0</td>\n",
       "      <td>4.761905</td>\n",
       "      <td>6.131498e-14</td>\n",
       "      <td>4.761905</td>\n",
       "      <td>4.761905</td>\n",
       "      <td>4.761905</td>\n",
       "      <td>4.761905</td>\n",
       "      <td>4.761905</td>\n",
       "    </tr>\n",
       "    <tr>\n",
       "      <th>gross income</th>\n",
       "      <td>1000.0</td>\n",
       "      <td>15.379369</td>\n",
       "      <td>1.170883e+01</td>\n",
       "      <td>0.508500</td>\n",
       "      <td>5.924875</td>\n",
       "      <td>12.088000</td>\n",
       "      <td>22.445250</td>\n",
       "      <td>49.650000</td>\n",
       "    </tr>\n",
       "    <tr>\n",
       "      <th>Rating</th>\n",
       "      <td>1000.0</td>\n",
       "      <td>6.972700</td>\n",
       "      <td>1.718580e+00</td>\n",
       "      <td>4.000000</td>\n",
       "      <td>5.500000</td>\n",
       "      <td>7.000000</td>\n",
       "      <td>8.500000</td>\n",
       "      <td>10.000000</td>\n",
       "    </tr>\n",
       "  </tbody>\n",
       "</table>\n",
       "</div>"
      ],
      "text/plain": [
       "                          count        mean           std        min  \\\n",
       "Unit price               1000.0   55.672130  2.649463e+01  10.080000   \n",
       "Quantity                 1000.0    5.510000  2.923431e+00   1.000000   \n",
       "Tax 5%                   1000.0   15.379369  1.170883e+01   0.508500   \n",
       "Total                    1000.0  322.966749  2.458853e+02  10.678500   \n",
       "cogs                     1000.0  307.587380  2.341765e+02  10.170000   \n",
       "gross margin percentage  1000.0    4.761905  6.131498e-14   4.761905   \n",
       "gross income             1000.0   15.379369  1.170883e+01   0.508500   \n",
       "Rating                   1000.0    6.972700  1.718580e+00   4.000000   \n",
       "\n",
       "                                25%         50%         75%          max  \n",
       "Unit price                32.875000   55.230000   77.935000    99.960000  \n",
       "Quantity                   3.000000    5.000000    8.000000    10.000000  \n",
       "Tax 5%                     5.924875   12.088000   22.445250    49.650000  \n",
       "Total                    124.422375  253.848000  471.350250  1042.650000  \n",
       "cogs                     118.497500  241.760000  448.905000   993.000000  \n",
       "gross margin percentage    4.761905    4.761905    4.761905     4.761905  \n",
       "gross income               5.924875   12.088000   22.445250    49.650000  \n",
       "Rating                     5.500000    7.000000    8.500000    10.000000  "
      ]
     },
     "execution_count": 192,
     "metadata": {},
     "output_type": "execute_result"
    }
   ],
   "source": [
    "print(\"Estadística descriptiva de variables cuantitativas relevantes:\")\n",
    "df[['Unit price', 'Quantity', 'Tax 5%', 'Total','cogs', 'gross margin percentage', 'gross income', 'Rating']].describe().T"
   ]
  },
  {
   "cell_type": "code",
   "execution_count": 198,
   "id": "b8512b32",
   "metadata": {},
   "outputs": [
    {
     "name": "stdout",
     "output_type": "stream",
     "text": [
      "                          count        mean           std        min  \\\n",
      "Unit price               1000.0   55.672130  2.649463e+01  10.080000   \n",
      "Quantity                 1000.0    5.510000  2.923431e+00   1.000000   \n",
      "Tax 5%                   1000.0   15.379369  1.170883e+01   0.508500   \n",
      "Total                    1000.0  322.966749  2.458853e+02  10.678500   \n",
      "cogs                     1000.0  307.587380  2.341765e+02  10.170000   \n",
      "gross margin percentage  1000.0    4.761905  6.131498e-14   4.761905   \n",
      "gross income             1000.0   15.379369  1.170883e+01   0.508500   \n",
      "Rating                   1000.0    6.972700  1.718580e+00   4.000000   \n",
      "\n",
      "                                25%         50%         75%          max  \n",
      "Unit price                32.875000   55.230000   77.935000    99.960000  \n",
      "Quantity                   3.000000    5.000000    8.000000    10.000000  \n",
      "Tax 5%                     5.924875   12.088000   22.445250    49.650000  \n",
      "Total                    124.422375  253.848000  471.350250  1042.650000  \n",
      "cogs                     118.497500  241.760000  448.905000   993.000000  \n",
      "gross margin percentage    4.761905    4.761905    4.761905     4.761905  \n",
      "gross income               5.924875   12.088000   22.445250    49.650000  \n",
      "Rating                     5.500000    7.000000    8.500000    10.000000  \n"
     ]
    }
   ],
   "source": [
    "X = df[['Unit price', 'Quantity', 'Tax 5%', 'Total','cogs', 'gross margin percentage', 'gross income', 'Rating']]\n",
    "print(X.describe().T)"
   ]
  },
  {
   "cell_type": "code",
   "execution_count": 197,
   "id": "7ebce78c",
   "metadata": {},
   "outputs": [
    {
     "name": "stdout",
     "output_type": "stream",
     "text": [
      "Estandarizar variables cuantitativas relevantes:\n",
      "                          count          mean     std       min       25%  \\\n",
      "Unit price               1000.0 -1.187939e-16  1.0005 -1.721668 -0.860874   \n",
      "Quantity                 1000.0  5.562217e-17  1.0005 -1.543480 -0.859010   \n",
      "Tax 5%                   1000.0  4.796163e-17  1.0005 -1.270692 -0.807871   \n",
      "Total                    1000.0 -2.420286e-17  1.0005 -1.270692 -0.807871   \n",
      "cogs                     1000.0 -3.663736e-17  1.0005 -1.270692 -0.807871   \n",
      "gross margin percentage  1000.0  0.000000e+00  0.0000  0.000000  0.000000   \n",
      "gross income             1000.0  4.796163e-17  1.0005 -1.270692 -0.807871   \n",
      "Rating                   1000.0  1.746381e-16  1.0005 -1.730607 -0.857357   \n",
      "\n",
      "                              50%       75%       max  \n",
      "Unit price              -0.016696  0.840699  1.672416  \n",
      "Quantity                -0.174540  0.852165  1.536635  \n",
      "Tax 5%                  -0.281242  0.603768  2.928371  \n",
      "Total                   -0.281242  0.603768  2.928371  \n",
      "cogs                    -0.281242  0.603768  2.928371  \n",
      "gross margin percentage  0.000000  0.000000  0.000000  \n",
      "gross income            -0.281242  0.603768  2.928371  \n",
      "Rating                   0.015893  0.889143  1.762394  \n"
     ]
    }
   ],
   "source": [
    "print (\"Estandarizar variables cuantitativas relevantes:\")\n",
    "ss = StandardScaler() \n",
    "X_ss = ss.fit_transform(X)\n",
    "x_df = pd.DataFrame(X_ss, columns= \n",
    "['Unit price', 'Quantity', 'Tax 5%', 'Total','cogs', 'gross margin percentage', 'gross income', 'Rating'])\n",
    "print(x_df.describe().T)"
   ]
  },
  {
   "cell_type": "code",
   "execution_count": 137,
   "id": "03e154a3",
   "metadata": {},
   "outputs": [
    {
     "name": "stdout",
     "output_type": "stream",
     "text": [
      "Existencia de celdas vacias:\n"
     ]
    },
    {
     "data": {
      "text/plain": [
       "Branch                     0\n",
       "City                       0\n",
       "Customer type              0\n",
       "Gender                     0\n",
       "Product line               0\n",
       "Unit price                 0\n",
       "Quantity                   0\n",
       "Tax 5%                     0\n",
       "Total                      0\n",
       "Date                       0\n",
       "Time                       0\n",
       "Payment                    0\n",
       "cogs                       0\n",
       "gross margin percentage    0\n",
       "gross income               0\n",
       "Rating                     0\n",
       "dtype: int64"
      ]
     },
     "execution_count": 137,
     "metadata": {},
     "output_type": "execute_result"
    }
   ],
   "source": [
    "print(\"Existencia de celdas vacias:\")\n",
    "df.isnull().sum()"
   ]
  },
  {
   "cell_type": "code",
   "execution_count": 138,
   "id": "c2c0b064",
   "metadata": {},
   "outputs": [
    {
     "name": "stdout",
     "output_type": "stream",
     "text": [
      "Valores faltantes:\n"
     ]
    },
    {
     "data": {
      "text/plain": [
       "Branch                     0\n",
       "City                       0\n",
       "Customer type              0\n",
       "Gender                     0\n",
       "Product line               0\n",
       "Unit price                 0\n",
       "Quantity                   0\n",
       "Tax 5%                     0\n",
       "Total                      0\n",
       "Date                       0\n",
       "Time                       0\n",
       "Payment                    0\n",
       "cogs                       0\n",
       "gross margin percentage    0\n",
       "gross income               0\n",
       "Rating                     0\n",
       "dtype: int64"
      ]
     },
     "execution_count": 138,
     "metadata": {},
     "output_type": "execute_result"
    }
   ],
   "source": [
    "print(\"Valores faltantes:\")\n",
    "df.isna().sum()"
   ]
  },
  {
   "cell_type": "code",
   "execution_count": 139,
   "id": "dead6b8a",
   "metadata": {},
   "outputs": [
    {
     "name": "stdout",
     "output_type": "stream",
     "text": [
      "Ordenar por precio:\n"
     ]
    },
    {
     "data": {
      "text/html": [
       "<div>\n",
       "<style scoped>\n",
       "    .dataframe tbody tr th:only-of-type {\n",
       "        vertical-align: middle;\n",
       "    }\n",
       "\n",
       "    .dataframe tbody tr th {\n",
       "        vertical-align: top;\n",
       "    }\n",
       "\n",
       "    .dataframe thead th {\n",
       "        text-align: right;\n",
       "    }\n",
       "</style>\n",
       "<table border=\"1\" class=\"dataframe\">\n",
       "  <thead>\n",
       "    <tr style=\"text-align: right;\">\n",
       "      <th></th>\n",
       "      <th>Branch</th>\n",
       "      <th>City</th>\n",
       "      <th>Customer type</th>\n",
       "      <th>Gender</th>\n",
       "      <th>Product line</th>\n",
       "      <th>Unit price</th>\n",
       "      <th>Quantity</th>\n",
       "      <th>Tax 5%</th>\n",
       "      <th>Total</th>\n",
       "      <th>Date</th>\n",
       "      <th>Time</th>\n",
       "      <th>Payment</th>\n",
       "      <th>cogs</th>\n",
       "      <th>gross margin percentage</th>\n",
       "      <th>gross income</th>\n",
       "      <th>Rating</th>\n",
       "    </tr>\n",
       "    <tr>\n",
       "      <th>Invoice ID</th>\n",
       "      <th></th>\n",
       "      <th></th>\n",
       "      <th></th>\n",
       "      <th></th>\n",
       "      <th></th>\n",
       "      <th></th>\n",
       "      <th></th>\n",
       "      <th></th>\n",
       "      <th></th>\n",
       "      <th></th>\n",
       "      <th></th>\n",
       "      <th></th>\n",
       "      <th></th>\n",
       "      <th></th>\n",
       "      <th></th>\n",
       "      <th></th>\n",
       "    </tr>\n",
       "  </thead>\n",
       "  <tbody>\n",
       "    <tr>\n",
       "      <th>333-23-2632</th>\n",
       "      <td>A</td>\n",
       "      <td>Yangon</td>\n",
       "      <td>Member</td>\n",
       "      <td>Male</td>\n",
       "      <td>Health and beauty</td>\n",
       "      <td>10.08</td>\n",
       "      <td>7</td>\n",
       "      <td>3.5280</td>\n",
       "      <td>74.0880</td>\n",
       "      <td>3/28/2019</td>\n",
       "      <td>20:14</td>\n",
       "      <td>Cash</td>\n",
       "      <td>70.56</td>\n",
       "      <td>4.761905</td>\n",
       "      <td>3.5280</td>\n",
       "      <td>4.2</td>\n",
       "    </tr>\n",
       "    <tr>\n",
       "      <th>239-48-4278</th>\n",
       "      <td>A</td>\n",
       "      <td>Yangon</td>\n",
       "      <td>Member</td>\n",
       "      <td>Male</td>\n",
       "      <td>Food and beverages</td>\n",
       "      <td>10.13</td>\n",
       "      <td>7</td>\n",
       "      <td>3.5455</td>\n",
       "      <td>74.4555</td>\n",
       "      <td>3/10/2019</td>\n",
       "      <td>19:35</td>\n",
       "      <td>Ewallet</td>\n",
       "      <td>70.91</td>\n",
       "      <td>4.761905</td>\n",
       "      <td>3.5455</td>\n",
       "      <td>8.3</td>\n",
       "    </tr>\n",
       "    <tr>\n",
       "      <th>516-77-6464</th>\n",
       "      <td>C</td>\n",
       "      <td>Naypyitaw</td>\n",
       "      <td>Member</td>\n",
       "      <td>Female</td>\n",
       "      <td>Health and beauty</td>\n",
       "      <td>10.16</td>\n",
       "      <td>5</td>\n",
       "      <td>2.5400</td>\n",
       "      <td>53.3400</td>\n",
       "      <td>2/24/2019</td>\n",
       "      <td>13:08</td>\n",
       "      <td>Ewallet</td>\n",
       "      <td>50.80</td>\n",
       "      <td>4.761905</td>\n",
       "      <td>2.5400</td>\n",
       "      <td>4.1</td>\n",
       "    </tr>\n",
       "    <tr>\n",
       "      <th>784-21-9238</th>\n",
       "      <td>C</td>\n",
       "      <td>Naypyitaw</td>\n",
       "      <td>Member</td>\n",
       "      <td>Male</td>\n",
       "      <td>Sports and travel</td>\n",
       "      <td>10.17</td>\n",
       "      <td>1</td>\n",
       "      <td>0.5085</td>\n",
       "      <td>10.6785</td>\n",
       "      <td>2/7/2019</td>\n",
       "      <td>14:15</td>\n",
       "      <td>Cash</td>\n",
       "      <td>10.17</td>\n",
       "      <td>4.761905</td>\n",
       "      <td>0.5085</td>\n",
       "      <td>5.9</td>\n",
       "    </tr>\n",
       "    <tr>\n",
       "      <th>115-38-7388</th>\n",
       "      <td>C</td>\n",
       "      <td>Naypyitaw</td>\n",
       "      <td>Member</td>\n",
       "      <td>Female</td>\n",
       "      <td>Fashion accessories</td>\n",
       "      <td>10.18</td>\n",
       "      <td>8</td>\n",
       "      <td>4.0720</td>\n",
       "      <td>85.5120</td>\n",
       "      <td>3/30/2019</td>\n",
       "      <td>12:51</td>\n",
       "      <td>Credit card</td>\n",
       "      <td>81.44</td>\n",
       "      <td>4.761905</td>\n",
       "      <td>4.0720</td>\n",
       "      <td>9.5</td>\n",
       "    </tr>\n",
       "    <tr>\n",
       "      <th>...</th>\n",
       "      <td>...</td>\n",
       "      <td>...</td>\n",
       "      <td>...</td>\n",
       "      <td>...</td>\n",
       "      <td>...</td>\n",
       "      <td>...</td>\n",
       "      <td>...</td>\n",
       "      <td>...</td>\n",
       "      <td>...</td>\n",
       "      <td>...</td>\n",
       "      <td>...</td>\n",
       "      <td>...</td>\n",
       "      <td>...</td>\n",
       "      <td>...</td>\n",
       "      <td>...</td>\n",
       "      <td>...</td>\n",
       "    </tr>\n",
       "    <tr>\n",
       "      <th>667-92-0055</th>\n",
       "      <td>A</td>\n",
       "      <td>Yangon</td>\n",
       "      <td>Member</td>\n",
       "      <td>Male</td>\n",
       "      <td>Health and beauty</td>\n",
       "      <td>99.83</td>\n",
       "      <td>6</td>\n",
       "      <td>29.9490</td>\n",
       "      <td>628.9290</td>\n",
       "      <td>3/4/2019</td>\n",
       "      <td>15:02</td>\n",
       "      <td>Ewallet</td>\n",
       "      <td>598.98</td>\n",
       "      <td>4.761905</td>\n",
       "      <td>29.9490</td>\n",
       "      <td>8.5</td>\n",
       "    </tr>\n",
       "    <tr>\n",
       "      <th>437-53-3084</th>\n",
       "      <td>B</td>\n",
       "      <td>Mandalay</td>\n",
       "      <td>Normal</td>\n",
       "      <td>Male</td>\n",
       "      <td>Fashion accessories</td>\n",
       "      <td>99.89</td>\n",
       "      <td>2</td>\n",
       "      <td>9.9890</td>\n",
       "      <td>209.7690</td>\n",
       "      <td>2/26/2019</td>\n",
       "      <td>11:48</td>\n",
       "      <td>Ewallet</td>\n",
       "      <td>199.78</td>\n",
       "      <td>4.761905</td>\n",
       "      <td>9.9890</td>\n",
       "      <td>7.1</td>\n",
       "    </tr>\n",
       "    <tr>\n",
       "      <th>641-62-7288</th>\n",
       "      <td>B</td>\n",
       "      <td>Mandalay</td>\n",
       "      <td>Normal</td>\n",
       "      <td>Male</td>\n",
       "      <td>Home and lifestyle</td>\n",
       "      <td>99.92</td>\n",
       "      <td>6</td>\n",
       "      <td>29.9760</td>\n",
       "      <td>629.4960</td>\n",
       "      <td>3/24/2019</td>\n",
       "      <td>13:33</td>\n",
       "      <td>Ewallet</td>\n",
       "      <td>599.52</td>\n",
       "      <td>4.761905</td>\n",
       "      <td>29.9760</td>\n",
       "      <td>7.1</td>\n",
       "    </tr>\n",
       "    <tr>\n",
       "      <th>219-22-9386</th>\n",
       "      <td>B</td>\n",
       "      <td>Mandalay</td>\n",
       "      <td>Member</td>\n",
       "      <td>Male</td>\n",
       "      <td>Sports and travel</td>\n",
       "      <td>99.96</td>\n",
       "      <td>9</td>\n",
       "      <td>44.9820</td>\n",
       "      <td>944.6220</td>\n",
       "      <td>3/9/2019</td>\n",
       "      <td>17:26</td>\n",
       "      <td>Credit card</td>\n",
       "      <td>899.64</td>\n",
       "      <td>4.761905</td>\n",
       "      <td>44.9820</td>\n",
       "      <td>4.2</td>\n",
       "    </tr>\n",
       "    <tr>\n",
       "      <th>148-41-7930</th>\n",
       "      <td>C</td>\n",
       "      <td>Naypyitaw</td>\n",
       "      <td>Normal</td>\n",
       "      <td>Male</td>\n",
       "      <td>Health and beauty</td>\n",
       "      <td>99.96</td>\n",
       "      <td>7</td>\n",
       "      <td>34.9860</td>\n",
       "      <td>734.7060</td>\n",
       "      <td>1/23/2019</td>\n",
       "      <td>10:33</td>\n",
       "      <td>Cash</td>\n",
       "      <td>699.72</td>\n",
       "      <td>4.761905</td>\n",
       "      <td>34.9860</td>\n",
       "      <td>6.1</td>\n",
       "    </tr>\n",
       "  </tbody>\n",
       "</table>\n",
       "<p>1000 rows × 16 columns</p>\n",
       "</div>"
      ],
      "text/plain": [
       "            Branch       City Customer type  Gender         Product line  \\\n",
       "Invoice ID                                                                 \n",
       "333-23-2632      A     Yangon        Member    Male    Health and beauty   \n",
       "239-48-4278      A     Yangon        Member    Male   Food and beverages   \n",
       "516-77-6464      C  Naypyitaw        Member  Female    Health and beauty   \n",
       "784-21-9238      C  Naypyitaw        Member    Male    Sports and travel   \n",
       "115-38-7388      C  Naypyitaw        Member  Female  Fashion accessories   \n",
       "...            ...        ...           ...     ...                  ...   \n",
       "667-92-0055      A     Yangon        Member    Male    Health and beauty   \n",
       "437-53-3084      B   Mandalay        Normal    Male  Fashion accessories   \n",
       "641-62-7288      B   Mandalay        Normal    Male   Home and lifestyle   \n",
       "219-22-9386      B   Mandalay        Member    Male    Sports and travel   \n",
       "148-41-7930      C  Naypyitaw        Normal    Male    Health and beauty   \n",
       "\n",
       "             Unit price  Quantity   Tax 5%     Total       Date   Time  \\\n",
       "Invoice ID                                                               \n",
       "333-23-2632       10.08         7   3.5280   74.0880  3/28/2019  20:14   \n",
       "239-48-4278       10.13         7   3.5455   74.4555  3/10/2019  19:35   \n",
       "516-77-6464       10.16         5   2.5400   53.3400  2/24/2019  13:08   \n",
       "784-21-9238       10.17         1   0.5085   10.6785   2/7/2019  14:15   \n",
       "115-38-7388       10.18         8   4.0720   85.5120  3/30/2019  12:51   \n",
       "...                 ...       ...      ...       ...        ...    ...   \n",
       "667-92-0055       99.83         6  29.9490  628.9290   3/4/2019  15:02   \n",
       "437-53-3084       99.89         2   9.9890  209.7690  2/26/2019  11:48   \n",
       "641-62-7288       99.92         6  29.9760  629.4960  3/24/2019  13:33   \n",
       "219-22-9386       99.96         9  44.9820  944.6220   3/9/2019  17:26   \n",
       "148-41-7930       99.96         7  34.9860  734.7060  1/23/2019  10:33   \n",
       "\n",
       "                 Payment    cogs  gross margin percentage  gross income  \\\n",
       "Invoice ID                                                                \n",
       "333-23-2632         Cash   70.56                 4.761905        3.5280   \n",
       "239-48-4278      Ewallet   70.91                 4.761905        3.5455   \n",
       "516-77-6464      Ewallet   50.80                 4.761905        2.5400   \n",
       "784-21-9238         Cash   10.17                 4.761905        0.5085   \n",
       "115-38-7388  Credit card   81.44                 4.761905        4.0720   \n",
       "...                  ...     ...                      ...           ...   \n",
       "667-92-0055      Ewallet  598.98                 4.761905       29.9490   \n",
       "437-53-3084      Ewallet  199.78                 4.761905        9.9890   \n",
       "641-62-7288      Ewallet  599.52                 4.761905       29.9760   \n",
       "219-22-9386  Credit card  899.64                 4.761905       44.9820   \n",
       "148-41-7930         Cash  699.72                 4.761905       34.9860   \n",
       "\n",
       "             Rating  \n",
       "Invoice ID           \n",
       "333-23-2632     4.2  \n",
       "239-48-4278     8.3  \n",
       "516-77-6464     4.1  \n",
       "784-21-9238     5.9  \n",
       "115-38-7388     9.5  \n",
       "...             ...  \n",
       "667-92-0055     8.5  \n",
       "437-53-3084     7.1  \n",
       "641-62-7288     7.1  \n",
       "219-22-9386     4.2  \n",
       "148-41-7930     6.1  \n",
       "\n",
       "[1000 rows x 16 columns]"
      ]
     },
     "execution_count": 139,
     "metadata": {},
     "output_type": "execute_result"
    }
   ],
   "source": [
    "print (\"Ordenar por precio:\")\n",
    "df.sort_values('Unit price')"
   ]
  },
  {
   "cell_type": "code",
   "execution_count": 141,
   "id": "c2d782cb",
   "metadata": {},
   "outputs": [
    {
     "name": "stdout",
     "output_type": "stream",
     "text": [
      "Ordenar por precio y cogs:\n"
     ]
    },
    {
     "data": {
      "text/html": [
       "<div>\n",
       "<style scoped>\n",
       "    .dataframe tbody tr th:only-of-type {\n",
       "        vertical-align: middle;\n",
       "    }\n",
       "\n",
       "    .dataframe tbody tr th {\n",
       "        vertical-align: top;\n",
       "    }\n",
       "\n",
       "    .dataframe thead th {\n",
       "        text-align: right;\n",
       "    }\n",
       "</style>\n",
       "<table border=\"1\" class=\"dataframe\">\n",
       "  <thead>\n",
       "    <tr style=\"text-align: right;\">\n",
       "      <th></th>\n",
       "      <th>Branch</th>\n",
       "      <th>City</th>\n",
       "      <th>Customer type</th>\n",
       "      <th>Gender</th>\n",
       "      <th>Product line</th>\n",
       "      <th>Unit price</th>\n",
       "      <th>Quantity</th>\n",
       "      <th>Tax 5%</th>\n",
       "      <th>Total</th>\n",
       "      <th>Date</th>\n",
       "      <th>Time</th>\n",
       "      <th>Payment</th>\n",
       "      <th>cogs</th>\n",
       "      <th>gross margin percentage</th>\n",
       "      <th>gross income</th>\n",
       "      <th>Rating</th>\n",
       "    </tr>\n",
       "    <tr>\n",
       "      <th>Invoice ID</th>\n",
       "      <th></th>\n",
       "      <th></th>\n",
       "      <th></th>\n",
       "      <th></th>\n",
       "      <th></th>\n",
       "      <th></th>\n",
       "      <th></th>\n",
       "      <th></th>\n",
       "      <th></th>\n",
       "      <th></th>\n",
       "      <th></th>\n",
       "      <th></th>\n",
       "      <th></th>\n",
       "      <th></th>\n",
       "      <th></th>\n",
       "      <th></th>\n",
       "    </tr>\n",
       "  </thead>\n",
       "  <tbody>\n",
       "    <tr>\n",
       "      <th>333-23-2632</th>\n",
       "      <td>A</td>\n",
       "      <td>Yangon</td>\n",
       "      <td>Member</td>\n",
       "      <td>Male</td>\n",
       "      <td>Health and beauty</td>\n",
       "      <td>10.08</td>\n",
       "      <td>7</td>\n",
       "      <td>3.5280</td>\n",
       "      <td>74.0880</td>\n",
       "      <td>3/28/2019</td>\n",
       "      <td>20:14</td>\n",
       "      <td>Cash</td>\n",
       "      <td>70.56</td>\n",
       "      <td>4.761905</td>\n",
       "      <td>3.5280</td>\n",
       "      <td>4.2</td>\n",
       "    </tr>\n",
       "    <tr>\n",
       "      <th>239-48-4278</th>\n",
       "      <td>A</td>\n",
       "      <td>Yangon</td>\n",
       "      <td>Member</td>\n",
       "      <td>Male</td>\n",
       "      <td>Food and beverages</td>\n",
       "      <td>10.13</td>\n",
       "      <td>7</td>\n",
       "      <td>3.5455</td>\n",
       "      <td>74.4555</td>\n",
       "      <td>3/10/2019</td>\n",
       "      <td>19:35</td>\n",
       "      <td>Ewallet</td>\n",
       "      <td>70.91</td>\n",
       "      <td>4.761905</td>\n",
       "      <td>3.5455</td>\n",
       "      <td>8.3</td>\n",
       "    </tr>\n",
       "    <tr>\n",
       "      <th>516-77-6464</th>\n",
       "      <td>C</td>\n",
       "      <td>Naypyitaw</td>\n",
       "      <td>Member</td>\n",
       "      <td>Female</td>\n",
       "      <td>Health and beauty</td>\n",
       "      <td>10.16</td>\n",
       "      <td>5</td>\n",
       "      <td>2.5400</td>\n",
       "      <td>53.3400</td>\n",
       "      <td>2/24/2019</td>\n",
       "      <td>13:08</td>\n",
       "      <td>Ewallet</td>\n",
       "      <td>50.80</td>\n",
       "      <td>4.761905</td>\n",
       "      <td>2.5400</td>\n",
       "      <td>4.1</td>\n",
       "    </tr>\n",
       "    <tr>\n",
       "      <th>784-21-9238</th>\n",
       "      <td>C</td>\n",
       "      <td>Naypyitaw</td>\n",
       "      <td>Member</td>\n",
       "      <td>Male</td>\n",
       "      <td>Sports and travel</td>\n",
       "      <td>10.17</td>\n",
       "      <td>1</td>\n",
       "      <td>0.5085</td>\n",
       "      <td>10.6785</td>\n",
       "      <td>2/7/2019</td>\n",
       "      <td>14:15</td>\n",
       "      <td>Cash</td>\n",
       "      <td>10.17</td>\n",
       "      <td>4.761905</td>\n",
       "      <td>0.5085</td>\n",
       "      <td>5.9</td>\n",
       "    </tr>\n",
       "    <tr>\n",
       "      <th>115-38-7388</th>\n",
       "      <td>C</td>\n",
       "      <td>Naypyitaw</td>\n",
       "      <td>Member</td>\n",
       "      <td>Female</td>\n",
       "      <td>Fashion accessories</td>\n",
       "      <td>10.18</td>\n",
       "      <td>8</td>\n",
       "      <td>4.0720</td>\n",
       "      <td>85.5120</td>\n",
       "      <td>3/30/2019</td>\n",
       "      <td>12:51</td>\n",
       "      <td>Credit card</td>\n",
       "      <td>81.44</td>\n",
       "      <td>4.761905</td>\n",
       "      <td>4.0720</td>\n",
       "      <td>9.5</td>\n",
       "    </tr>\n",
       "    <tr>\n",
       "      <th>...</th>\n",
       "      <td>...</td>\n",
       "      <td>...</td>\n",
       "      <td>...</td>\n",
       "      <td>...</td>\n",
       "      <td>...</td>\n",
       "      <td>...</td>\n",
       "      <td>...</td>\n",
       "      <td>...</td>\n",
       "      <td>...</td>\n",
       "      <td>...</td>\n",
       "      <td>...</td>\n",
       "      <td>...</td>\n",
       "      <td>...</td>\n",
       "      <td>...</td>\n",
       "      <td>...</td>\n",
       "      <td>...</td>\n",
       "    </tr>\n",
       "    <tr>\n",
       "      <th>667-92-0055</th>\n",
       "      <td>A</td>\n",
       "      <td>Yangon</td>\n",
       "      <td>Member</td>\n",
       "      <td>Male</td>\n",
       "      <td>Health and beauty</td>\n",
       "      <td>99.83</td>\n",
       "      <td>6</td>\n",
       "      <td>29.9490</td>\n",
       "      <td>628.9290</td>\n",
       "      <td>3/4/2019</td>\n",
       "      <td>15:02</td>\n",
       "      <td>Ewallet</td>\n",
       "      <td>598.98</td>\n",
       "      <td>4.761905</td>\n",
       "      <td>29.9490</td>\n",
       "      <td>8.5</td>\n",
       "    </tr>\n",
       "    <tr>\n",
       "      <th>437-53-3084</th>\n",
       "      <td>B</td>\n",
       "      <td>Mandalay</td>\n",
       "      <td>Normal</td>\n",
       "      <td>Male</td>\n",
       "      <td>Fashion accessories</td>\n",
       "      <td>99.89</td>\n",
       "      <td>2</td>\n",
       "      <td>9.9890</td>\n",
       "      <td>209.7690</td>\n",
       "      <td>2/26/2019</td>\n",
       "      <td>11:48</td>\n",
       "      <td>Ewallet</td>\n",
       "      <td>199.78</td>\n",
       "      <td>4.761905</td>\n",
       "      <td>9.9890</td>\n",
       "      <td>7.1</td>\n",
       "    </tr>\n",
       "    <tr>\n",
       "      <th>641-62-7288</th>\n",
       "      <td>B</td>\n",
       "      <td>Mandalay</td>\n",
       "      <td>Normal</td>\n",
       "      <td>Male</td>\n",
       "      <td>Home and lifestyle</td>\n",
       "      <td>99.92</td>\n",
       "      <td>6</td>\n",
       "      <td>29.9760</td>\n",
       "      <td>629.4960</td>\n",
       "      <td>3/24/2019</td>\n",
       "      <td>13:33</td>\n",
       "      <td>Ewallet</td>\n",
       "      <td>599.52</td>\n",
       "      <td>4.761905</td>\n",
       "      <td>29.9760</td>\n",
       "      <td>7.1</td>\n",
       "    </tr>\n",
       "    <tr>\n",
       "      <th>148-41-7930</th>\n",
       "      <td>C</td>\n",
       "      <td>Naypyitaw</td>\n",
       "      <td>Normal</td>\n",
       "      <td>Male</td>\n",
       "      <td>Health and beauty</td>\n",
       "      <td>99.96</td>\n",
       "      <td>7</td>\n",
       "      <td>34.9860</td>\n",
       "      <td>734.7060</td>\n",
       "      <td>1/23/2019</td>\n",
       "      <td>10:33</td>\n",
       "      <td>Cash</td>\n",
       "      <td>699.72</td>\n",
       "      <td>4.761905</td>\n",
       "      <td>34.9860</td>\n",
       "      <td>6.1</td>\n",
       "    </tr>\n",
       "    <tr>\n",
       "      <th>219-22-9386</th>\n",
       "      <td>B</td>\n",
       "      <td>Mandalay</td>\n",
       "      <td>Member</td>\n",
       "      <td>Male</td>\n",
       "      <td>Sports and travel</td>\n",
       "      <td>99.96</td>\n",
       "      <td>9</td>\n",
       "      <td>44.9820</td>\n",
       "      <td>944.6220</td>\n",
       "      <td>3/9/2019</td>\n",
       "      <td>17:26</td>\n",
       "      <td>Credit card</td>\n",
       "      <td>899.64</td>\n",
       "      <td>4.761905</td>\n",
       "      <td>44.9820</td>\n",
       "      <td>4.2</td>\n",
       "    </tr>\n",
       "  </tbody>\n",
       "</table>\n",
       "<p>1000 rows × 16 columns</p>\n",
       "</div>"
      ],
      "text/plain": [
       "            Branch       City Customer type  Gender         Product line  \\\n",
       "Invoice ID                                                                 \n",
       "333-23-2632      A     Yangon        Member    Male    Health and beauty   \n",
       "239-48-4278      A     Yangon        Member    Male   Food and beverages   \n",
       "516-77-6464      C  Naypyitaw        Member  Female    Health and beauty   \n",
       "784-21-9238      C  Naypyitaw        Member    Male    Sports and travel   \n",
       "115-38-7388      C  Naypyitaw        Member  Female  Fashion accessories   \n",
       "...            ...        ...           ...     ...                  ...   \n",
       "667-92-0055      A     Yangon        Member    Male    Health and beauty   \n",
       "437-53-3084      B   Mandalay        Normal    Male  Fashion accessories   \n",
       "641-62-7288      B   Mandalay        Normal    Male   Home and lifestyle   \n",
       "148-41-7930      C  Naypyitaw        Normal    Male    Health and beauty   \n",
       "219-22-9386      B   Mandalay        Member    Male    Sports and travel   \n",
       "\n",
       "             Unit price  Quantity   Tax 5%     Total       Date   Time  \\\n",
       "Invoice ID                                                               \n",
       "333-23-2632       10.08         7   3.5280   74.0880  3/28/2019  20:14   \n",
       "239-48-4278       10.13         7   3.5455   74.4555  3/10/2019  19:35   \n",
       "516-77-6464       10.16         5   2.5400   53.3400  2/24/2019  13:08   \n",
       "784-21-9238       10.17         1   0.5085   10.6785   2/7/2019  14:15   \n",
       "115-38-7388       10.18         8   4.0720   85.5120  3/30/2019  12:51   \n",
       "...                 ...       ...      ...       ...        ...    ...   \n",
       "667-92-0055       99.83         6  29.9490  628.9290   3/4/2019  15:02   \n",
       "437-53-3084       99.89         2   9.9890  209.7690  2/26/2019  11:48   \n",
       "641-62-7288       99.92         6  29.9760  629.4960  3/24/2019  13:33   \n",
       "148-41-7930       99.96         7  34.9860  734.7060  1/23/2019  10:33   \n",
       "219-22-9386       99.96         9  44.9820  944.6220   3/9/2019  17:26   \n",
       "\n",
       "                 Payment    cogs  gross margin percentage  gross income  \\\n",
       "Invoice ID                                                                \n",
       "333-23-2632         Cash   70.56                 4.761905        3.5280   \n",
       "239-48-4278      Ewallet   70.91                 4.761905        3.5455   \n",
       "516-77-6464      Ewallet   50.80                 4.761905        2.5400   \n",
       "784-21-9238         Cash   10.17                 4.761905        0.5085   \n",
       "115-38-7388  Credit card   81.44                 4.761905        4.0720   \n",
       "...                  ...     ...                      ...           ...   \n",
       "667-92-0055      Ewallet  598.98                 4.761905       29.9490   \n",
       "437-53-3084      Ewallet  199.78                 4.761905        9.9890   \n",
       "641-62-7288      Ewallet  599.52                 4.761905       29.9760   \n",
       "148-41-7930         Cash  699.72                 4.761905       34.9860   \n",
       "219-22-9386  Credit card  899.64                 4.761905       44.9820   \n",
       "\n",
       "             Rating  \n",
       "Invoice ID           \n",
       "333-23-2632     4.2  \n",
       "239-48-4278     8.3  \n",
       "516-77-6464     4.1  \n",
       "784-21-9238     5.9  \n",
       "115-38-7388     9.5  \n",
       "...             ...  \n",
       "667-92-0055     8.5  \n",
       "437-53-3084     7.1  \n",
       "641-62-7288     7.1  \n",
       "148-41-7930     6.1  \n",
       "219-22-9386     4.2  \n",
       "\n",
       "[1000 rows x 16 columns]"
      ]
     },
     "execution_count": 141,
     "metadata": {},
     "output_type": "execute_result"
    }
   ],
   "source": [
    "print (\"Ordenar por precio y cogs:\")\n",
    "df.sort_values(['Unit price','cogs'], ascending = [True, True])"
   ]
  },
  {
   "cell_type": "code",
   "execution_count": 277,
   "id": "dbfeff37",
   "metadata": {},
   "outputs": [
    {
     "name": "stdout",
     "output_type": "stream",
     "text": [
      "El promedio de los costos de los bienes vendidos:\n"
     ]
    },
    {
     "data": {
      "text/plain": [
       "cogs    307.58738\n",
       "dtype: float64"
      ]
     },
     "execution_count": 277,
     "metadata": {},
     "output_type": "execute_result"
    }
   ],
   "source": [
    "print (\"El promedio de los costos de los bienes vendidos:\")\n",
    "df[['cogs']].mean()"
   ]
  },
  {
   "cell_type": "code",
   "execution_count": 295,
   "id": "406f9527",
   "metadata": {},
   "outputs": [
    {
     "name": "stdout",
     "output_type": "stream",
     "text": [
      "El promedio de los ingresos brutos:\n"
     ]
    },
    {
     "data": {
      "text/plain": [
       "gross income    15.379369\n",
       "dtype: float64"
      ]
     },
     "execution_count": 295,
     "metadata": {},
     "output_type": "execute_result"
    }
   ],
   "source": [
    "print (\"El promedio de los ingresos brutos:\")\n",
    "df[['gross income']].mean()"
   ]
  },
  {
   "cell_type": "code",
   "execution_count": 285,
   "id": "5e2459fe",
   "metadata": {},
   "outputs": [
    {
     "name": "stdout",
     "output_type": "stream",
     "text": [
      "Separar el Total y el cogs:\n"
     ]
    },
    {
     "data": {
      "text/html": [
       "<div>\n",
       "<style scoped>\n",
       "    .dataframe tbody tr th:only-of-type {\n",
       "        vertical-align: middle;\n",
       "    }\n",
       "\n",
       "    .dataframe tbody tr th {\n",
       "        vertical-align: top;\n",
       "    }\n",
       "\n",
       "    .dataframe thead th {\n",
       "        text-align: right;\n",
       "    }\n",
       "</style>\n",
       "<table border=\"1\" class=\"dataframe\">\n",
       "  <thead>\n",
       "    <tr style=\"text-align: right;\">\n",
       "      <th></th>\n",
       "      <th>Total</th>\n",
       "      <th>cogs</th>\n",
       "    </tr>\n",
       "    <tr>\n",
       "      <th>Invoice ID</th>\n",
       "      <th></th>\n",
       "      <th></th>\n",
       "    </tr>\n",
       "  </thead>\n",
       "  <tbody>\n",
       "    <tr>\n",
       "      <th>750-67-8428</th>\n",
       "      <td>548.9715</td>\n",
       "      <td>522.83</td>\n",
       "    </tr>\n",
       "    <tr>\n",
       "      <th>226-31-3081</th>\n",
       "      <td>80.2200</td>\n",
       "      <td>76.40</td>\n",
       "    </tr>\n",
       "    <tr>\n",
       "      <th>631-41-3108</th>\n",
       "      <td>340.5255</td>\n",
       "      <td>324.31</td>\n",
       "    </tr>\n",
       "    <tr>\n",
       "      <th>123-19-1176</th>\n",
       "      <td>489.0480</td>\n",
       "      <td>465.76</td>\n",
       "    </tr>\n",
       "    <tr>\n",
       "      <th>373-73-7910</th>\n",
       "      <td>634.3785</td>\n",
       "      <td>604.17</td>\n",
       "    </tr>\n",
       "    <tr>\n",
       "      <th>...</th>\n",
       "      <td>...</td>\n",
       "      <td>...</td>\n",
       "    </tr>\n",
       "    <tr>\n",
       "      <th>233-67-5758</th>\n",
       "      <td>42.3675</td>\n",
       "      <td>40.35</td>\n",
       "    </tr>\n",
       "    <tr>\n",
       "      <th>303-96-2227</th>\n",
       "      <td>1022.4900</td>\n",
       "      <td>973.80</td>\n",
       "    </tr>\n",
       "    <tr>\n",
       "      <th>727-02-1313</th>\n",
       "      <td>33.4320</td>\n",
       "      <td>31.84</td>\n",
       "    </tr>\n",
       "    <tr>\n",
       "      <th>347-56-2442</th>\n",
       "      <td>69.1110</td>\n",
       "      <td>65.82</td>\n",
       "    </tr>\n",
       "    <tr>\n",
       "      <th>849-09-3807</th>\n",
       "      <td>649.2990</td>\n",
       "      <td>618.38</td>\n",
       "    </tr>\n",
       "  </tbody>\n",
       "</table>\n",
       "<p>1000 rows × 2 columns</p>\n",
       "</div>"
      ],
      "text/plain": [
       "                 Total    cogs\n",
       "Invoice ID                    \n",
       "750-67-8428   548.9715  522.83\n",
       "226-31-3081    80.2200   76.40\n",
       "631-41-3108   340.5255  324.31\n",
       "123-19-1176   489.0480  465.76\n",
       "373-73-7910   634.3785  604.17\n",
       "...                ...     ...\n",
       "233-67-5758    42.3675   40.35\n",
       "303-96-2227  1022.4900  973.80\n",
       "727-02-1313    33.4320   31.84\n",
       "347-56-2442    69.1110   65.82\n",
       "849-09-3807   649.2990  618.38\n",
       "\n",
       "[1000 rows x 2 columns]"
      ]
     },
     "execution_count": 285,
     "metadata": {},
     "output_type": "execute_result"
    }
   ],
   "source": [
    "print(\"Separar el Total y el cogs:\")\n",
    "df[['Total','cogs']]"
   ]
  },
  {
   "cell_type": "code",
   "execution_count": 159,
   "id": "8d186221",
   "metadata": {},
   "outputs": [
    {
     "name": "stdout",
     "output_type": "stream",
     "text": [
      "Identificar aquellos productos con precio unitario mayor a $80:\n"
     ]
    },
    {
     "data": {
      "text/plain": [
       "Invoice ID\n",
       "750-67-8428    False\n",
       "226-31-3081    False\n",
       "631-41-3108    False\n",
       "123-19-1176    False\n",
       "373-73-7910     True\n",
       "               ...  \n",
       "233-67-5758    False\n",
       "303-96-2227     True\n",
       "727-02-1313    False\n",
       "347-56-2442    False\n",
       "849-09-3807     True\n",
       "Name: Unit price, Length: 1000, dtype: bool"
      ]
     },
     "execution_count": 159,
     "metadata": {},
     "output_type": "execute_result"
    }
   ],
   "source": [
    "print (\"Identificar aquellos productos con precio unitario mayor a $80:\")\n",
    "df['Unit price'] > 80"
   ]
  },
  {
   "cell_type": "code",
   "execution_count": 174,
   "id": "9b7d04f2",
   "metadata": {},
   "outputs": [
    {
     "name": "stdout",
     "output_type": "stream",
     "text": [
      "Se quieren saber las clientas que compran en la línea de salud y belleza productos arriba de $40,para considerar hacer una posible expansión.\n"
     ]
    }
   ],
   "source": [
    "print(\"Se quieren saber las clientas que compran en la línea de salud y belleza productos arriba de $40,para considerar hacer una posible expansión.\")"
   ]
  },
  {
   "cell_type": "code",
   "execution_count": 169,
   "id": "f592b355",
   "metadata": {},
   "outputs": [
    {
     "data": {
      "text/html": [
       "<div>\n",
       "<style scoped>\n",
       "    .dataframe tbody tr th:only-of-type {\n",
       "        vertical-align: middle;\n",
       "    }\n",
       "\n",
       "    .dataframe tbody tr th {\n",
       "        vertical-align: top;\n",
       "    }\n",
       "\n",
       "    .dataframe thead th {\n",
       "        text-align: right;\n",
       "    }\n",
       "</style>\n",
       "<table border=\"1\" class=\"dataframe\">\n",
       "  <thead>\n",
       "    <tr style=\"text-align: right;\">\n",
       "      <th></th>\n",
       "      <th>Branch</th>\n",
       "      <th>City</th>\n",
       "      <th>Customer type</th>\n",
       "      <th>Gender</th>\n",
       "      <th>Product line</th>\n",
       "      <th>Unit price</th>\n",
       "      <th>Quantity</th>\n",
       "      <th>Tax 5%</th>\n",
       "      <th>Total</th>\n",
       "      <th>Date</th>\n",
       "      <th>Time</th>\n",
       "      <th>Payment</th>\n",
       "      <th>cogs</th>\n",
       "      <th>gross margin percentage</th>\n",
       "      <th>gross income</th>\n",
       "      <th>Rating</th>\n",
       "    </tr>\n",
       "    <tr>\n",
       "      <th>Invoice ID</th>\n",
       "      <th></th>\n",
       "      <th></th>\n",
       "      <th></th>\n",
       "      <th></th>\n",
       "      <th></th>\n",
       "      <th></th>\n",
       "      <th></th>\n",
       "      <th></th>\n",
       "      <th></th>\n",
       "      <th></th>\n",
       "      <th></th>\n",
       "      <th></th>\n",
       "      <th></th>\n",
       "      <th></th>\n",
       "      <th></th>\n",
       "      <th></th>\n",
       "    </tr>\n",
       "  </thead>\n",
       "  <tbody>\n",
       "    <tr>\n",
       "      <th>750-67-8428</th>\n",
       "      <td>A</td>\n",
       "      <td>Yangon</td>\n",
       "      <td>Member</td>\n",
       "      <td>Female</td>\n",
       "      <td>Health and beauty</td>\n",
       "      <td>74.69</td>\n",
       "      <td>7</td>\n",
       "      <td>26.1415</td>\n",
       "      <td>548.9715</td>\n",
       "      <td>1/5/2019</td>\n",
       "      <td>13:08</td>\n",
       "      <td>Ewallet</td>\n",
       "      <td>522.83</td>\n",
       "      <td>4.761905</td>\n",
       "      <td>26.1415</td>\n",
       "      <td>9.1</td>\n",
       "    </tr>\n",
       "    <tr>\n",
       "      <th>829-34-3910</th>\n",
       "      <td>A</td>\n",
       "      <td>Yangon</td>\n",
       "      <td>Normal</td>\n",
       "      <td>Female</td>\n",
       "      <td>Health and beauty</td>\n",
       "      <td>71.38</td>\n",
       "      <td>10</td>\n",
       "      <td>35.6900</td>\n",
       "      <td>749.4900</td>\n",
       "      <td>3/29/2019</td>\n",
       "      <td>19:21</td>\n",
       "      <td>Cash</td>\n",
       "      <td>713.80</td>\n",
       "      <td>4.761905</td>\n",
       "      <td>35.6900</td>\n",
       "      <td>5.7</td>\n",
       "    </tr>\n",
       "    <tr>\n",
       "      <th>656-95-9349</th>\n",
       "      <td>A</td>\n",
       "      <td>Yangon</td>\n",
       "      <td>Member</td>\n",
       "      <td>Female</td>\n",
       "      <td>Health and beauty</td>\n",
       "      <td>68.93</td>\n",
       "      <td>7</td>\n",
       "      <td>24.1255</td>\n",
       "      <td>506.6355</td>\n",
       "      <td>3/11/2019</td>\n",
       "      <td>11:03</td>\n",
       "      <td>Credit card</td>\n",
       "      <td>482.51</td>\n",
       "      <td>4.761905</td>\n",
       "      <td>24.1255</td>\n",
       "      <td>4.6</td>\n",
       "    </tr>\n",
       "    <tr>\n",
       "      <th>333-73-7901</th>\n",
       "      <td>C</td>\n",
       "      <td>Naypyitaw</td>\n",
       "      <td>Normal</td>\n",
       "      <td>Female</td>\n",
       "      <td>Health and beauty</td>\n",
       "      <td>54.92</td>\n",
       "      <td>8</td>\n",
       "      <td>21.9680</td>\n",
       "      <td>461.3280</td>\n",
       "      <td>3/23/2019</td>\n",
       "      <td>13:24</td>\n",
       "      <td>Ewallet</td>\n",
       "      <td>439.36</td>\n",
       "      <td>4.761905</td>\n",
       "      <td>21.9680</td>\n",
       "      <td>7.6</td>\n",
       "    </tr>\n",
       "    <tr>\n",
       "      <th>870-72-4431</th>\n",
       "      <td>C</td>\n",
       "      <td>Naypyitaw</td>\n",
       "      <td>Normal</td>\n",
       "      <td>Female</td>\n",
       "      <td>Health and beauty</td>\n",
       "      <td>99.19</td>\n",
       "      <td>6</td>\n",
       "      <td>29.7570</td>\n",
       "      <td>624.8970</td>\n",
       "      <td>1/21/2019</td>\n",
       "      <td>14:42</td>\n",
       "      <td>Credit card</td>\n",
       "      <td>595.14</td>\n",
       "      <td>4.761905</td>\n",
       "      <td>29.7570</td>\n",
       "      <td>5.5</td>\n",
       "    </tr>\n",
       "  </tbody>\n",
       "</table>\n",
       "</div>"
      ],
      "text/plain": [
       "            Branch       City Customer type  Gender       Product line  \\\n",
       "Invoice ID                                                               \n",
       "750-67-8428      A     Yangon        Member  Female  Health and beauty   \n",
       "829-34-3910      A     Yangon        Normal  Female  Health and beauty   \n",
       "656-95-9349      A     Yangon        Member  Female  Health and beauty   \n",
       "333-73-7901      C  Naypyitaw        Normal  Female  Health and beauty   \n",
       "870-72-4431      C  Naypyitaw        Normal  Female  Health and beauty   \n",
       "\n",
       "             Unit price  Quantity   Tax 5%     Total       Date   Time  \\\n",
       "Invoice ID                                                               \n",
       "750-67-8428       74.69         7  26.1415  548.9715   1/5/2019  13:08   \n",
       "829-34-3910       71.38        10  35.6900  749.4900  3/29/2019  19:21   \n",
       "656-95-9349       68.93         7  24.1255  506.6355  3/11/2019  11:03   \n",
       "333-73-7901       54.92         8  21.9680  461.3280  3/23/2019  13:24   \n",
       "870-72-4431       99.19         6  29.7570  624.8970  1/21/2019  14:42   \n",
       "\n",
       "                 Payment    cogs  gross margin percentage  gross income  \\\n",
       "Invoice ID                                                                \n",
       "750-67-8428      Ewallet  522.83                 4.761905       26.1415   \n",
       "829-34-3910         Cash  713.80                 4.761905       35.6900   \n",
       "656-95-9349  Credit card  482.51                 4.761905       24.1255   \n",
       "333-73-7901      Ewallet  439.36                 4.761905       21.9680   \n",
       "870-72-4431  Credit card  595.14                 4.761905       29.7570   \n",
       "\n",
       "             Rating  \n",
       "Invoice ID           \n",
       "750-67-8428     9.1  \n",
       "829-34-3910     5.7  \n",
       "656-95-9349     4.6  \n",
       "333-73-7901     7.6  \n",
       "870-72-4431     5.5  "
      ]
     },
     "execution_count": 169,
     "metadata": {},
     "output_type": "execute_result"
    }
   ],
   "source": [
    "df[(df['Unit price'] > 40) & (df['Product line'] == \"Health and beauty\") & (df['Gender'] == \"Female\")].head()"
   ]
  },
  {
   "cell_type": "code",
   "execution_count": 286,
   "id": "c56d633c",
   "metadata": {},
   "outputs": [
    {
     "name": "stdout",
     "output_type": "stream",
     "text": [
      "Los resultados obtenidos nos mustran que solo 5 clientas adquieren esos productos, por lo que no se recomienda una expansión.\n"
     ]
    }
   ],
   "source": [
    "print (\"Los resultados obtenidos nos mustran que solo 5 clientas adquieren esos productos, por lo que no se recomienda una expansión.\")"
   ]
  },
  {
   "cell_type": "code",
   "execution_count": 175,
   "id": "e1a03652",
   "metadata": {},
   "outputs": [
    {
     "name": "stdout",
     "output_type": "stream",
     "text": [
      "Se cree que en la ciudad de Yangon existen más clientes masculinos que adquieren productos de Sports and travel con efectivo que en la ciudad de Naypyitaw\n",
      "Se requiere confirmar o negar la información, para empezar con estrategias de Marketing en la ciudad en que tenga menos popularidad esta línea de productos\n"
     ]
    }
   ],
   "source": [
    "print (\"Se cree que en la ciudad de Yangon existen más clientes masculinos que adquieren productos de Sports and travel con efectivo que en la ciudad de Naypyitaw\")\n",
    "print (\"Se requiere confirmar o negar la información, para empezar con estrategias de Marketing en la ciudad en que tenga menos popularidad esta línea de productos\")"
   ]
  },
  {
   "cell_type": "code",
   "execution_count": 177,
   "id": "778d50a3",
   "metadata": {},
   "outputs": [
    {
     "data": {
      "text/html": [
       "<div>\n",
       "<style scoped>\n",
       "    .dataframe tbody tr th:only-of-type {\n",
       "        vertical-align: middle;\n",
       "    }\n",
       "\n",
       "    .dataframe tbody tr th {\n",
       "        vertical-align: top;\n",
       "    }\n",
       "\n",
       "    .dataframe thead th {\n",
       "        text-align: right;\n",
       "    }\n",
       "</style>\n",
       "<table border=\"1\" class=\"dataframe\">\n",
       "  <thead>\n",
       "    <tr style=\"text-align: right;\">\n",
       "      <th></th>\n",
       "      <th>Branch</th>\n",
       "      <th>City</th>\n",
       "      <th>Customer type</th>\n",
       "      <th>Gender</th>\n",
       "      <th>Product line</th>\n",
       "      <th>Unit price</th>\n",
       "      <th>Quantity</th>\n",
       "      <th>Tax 5%</th>\n",
       "      <th>Total</th>\n",
       "      <th>Date</th>\n",
       "      <th>Time</th>\n",
       "      <th>Payment</th>\n",
       "      <th>cogs</th>\n",
       "      <th>gross margin percentage</th>\n",
       "      <th>gross income</th>\n",
       "      <th>Rating</th>\n",
       "    </tr>\n",
       "    <tr>\n",
       "      <th>Invoice ID</th>\n",
       "      <th></th>\n",
       "      <th></th>\n",
       "      <th></th>\n",
       "      <th></th>\n",
       "      <th></th>\n",
       "      <th></th>\n",
       "      <th></th>\n",
       "      <th></th>\n",
       "      <th></th>\n",
       "      <th></th>\n",
       "      <th></th>\n",
       "      <th></th>\n",
       "      <th></th>\n",
       "      <th></th>\n",
       "      <th></th>\n",
       "      <th></th>\n",
       "    </tr>\n",
       "  </thead>\n",
       "  <tbody>\n",
       "    <tr>\n",
       "      <th>232-11-3025</th>\n",
       "      <td>A</td>\n",
       "      <td>Yangon</td>\n",
       "      <td>Normal</td>\n",
       "      <td>Male</td>\n",
       "      <td>Sports and travel</td>\n",
       "      <td>78.77</td>\n",
       "      <td>10</td>\n",
       "      <td>39.3850</td>\n",
       "      <td>827.0850</td>\n",
       "      <td>1/24/2019</td>\n",
       "      <td>10:04</td>\n",
       "      <td>Cash</td>\n",
       "      <td>787.70</td>\n",
       "      <td>4.761905</td>\n",
       "      <td>39.3850</td>\n",
       "      <td>6.4</td>\n",
       "    </tr>\n",
       "    <tr>\n",
       "      <th>504-35-8843</th>\n",
       "      <td>A</td>\n",
       "      <td>Yangon</td>\n",
       "      <td>Normal</td>\n",
       "      <td>Male</td>\n",
       "      <td>Sports and travel</td>\n",
       "      <td>42.47</td>\n",
       "      <td>1</td>\n",
       "      <td>2.1235</td>\n",
       "      <td>44.5935</td>\n",
       "      <td>1/2/2019</td>\n",
       "      <td>16:57</td>\n",
       "      <td>Cash</td>\n",
       "      <td>42.47</td>\n",
       "      <td>4.761905</td>\n",
       "      <td>2.1235</td>\n",
       "      <td>5.7</td>\n",
       "    </tr>\n",
       "    <tr>\n",
       "      <th>630-74-5166</th>\n",
       "      <td>A</td>\n",
       "      <td>Yangon</td>\n",
       "      <td>Normal</td>\n",
       "      <td>Male</td>\n",
       "      <td>Sports and travel</td>\n",
       "      <td>62.13</td>\n",
       "      <td>6</td>\n",
       "      <td>18.6390</td>\n",
       "      <td>391.4190</td>\n",
       "      <td>3/22/2019</td>\n",
       "      <td>20:19</td>\n",
       "      <td>Cash</td>\n",
       "      <td>372.78</td>\n",
       "      <td>4.761905</td>\n",
       "      <td>18.6390</td>\n",
       "      <td>7.4</td>\n",
       "    </tr>\n",
       "    <tr>\n",
       "      <th>275-28-0149</th>\n",
       "      <td>A</td>\n",
       "      <td>Yangon</td>\n",
       "      <td>Normal</td>\n",
       "      <td>Male</td>\n",
       "      <td>Sports and travel</td>\n",
       "      <td>63.69</td>\n",
       "      <td>1</td>\n",
       "      <td>3.1845</td>\n",
       "      <td>66.8745</td>\n",
       "      <td>2/25/2019</td>\n",
       "      <td>16:21</td>\n",
       "      <td>Cash</td>\n",
       "      <td>63.69</td>\n",
       "      <td>4.761905</td>\n",
       "      <td>3.1845</td>\n",
       "      <td>6.0</td>\n",
       "    </tr>\n",
       "    <tr>\n",
       "      <th>150-89-8043</th>\n",
       "      <td>A</td>\n",
       "      <td>Yangon</td>\n",
       "      <td>Normal</td>\n",
       "      <td>Male</td>\n",
       "      <td>Sports and travel</td>\n",
       "      <td>44.65</td>\n",
       "      <td>3</td>\n",
       "      <td>6.6975</td>\n",
       "      <td>140.6475</td>\n",
       "      <td>2/14/2019</td>\n",
       "      <td>15:04</td>\n",
       "      <td>Cash</td>\n",
       "      <td>133.95</td>\n",
       "      <td>4.761905</td>\n",
       "      <td>6.6975</td>\n",
       "      <td>6.2</td>\n",
       "    </tr>\n",
       "    <tr>\n",
       "      <th>827-77-7633</th>\n",
       "      <td>A</td>\n",
       "      <td>Yangon</td>\n",
       "      <td>Normal</td>\n",
       "      <td>Male</td>\n",
       "      <td>Sports and travel</td>\n",
       "      <td>98.09</td>\n",
       "      <td>9</td>\n",
       "      <td>44.1405</td>\n",
       "      <td>926.9505</td>\n",
       "      <td>2/17/2019</td>\n",
       "      <td>19:41</td>\n",
       "      <td>Cash</td>\n",
       "      <td>882.81</td>\n",
       "      <td>4.761905</td>\n",
       "      <td>44.1405</td>\n",
       "      <td>9.3</td>\n",
       "    </tr>\n",
       "    <tr>\n",
       "      <th>166-19-2553</th>\n",
       "      <td>A</td>\n",
       "      <td>Yangon</td>\n",
       "      <td>Member</td>\n",
       "      <td>Male</td>\n",
       "      <td>Sports and travel</td>\n",
       "      <td>89.06</td>\n",
       "      <td>6</td>\n",
       "      <td>26.7180</td>\n",
       "      <td>561.0780</td>\n",
       "      <td>1/18/2019</td>\n",
       "      <td>17:26</td>\n",
       "      <td>Cash</td>\n",
       "      <td>534.36</td>\n",
       "      <td>4.761905</td>\n",
       "      <td>26.7180</td>\n",
       "      <td>9.9</td>\n",
       "    </tr>\n",
       "    <tr>\n",
       "      <th>460-93-5834</th>\n",
       "      <td>A</td>\n",
       "      <td>Yangon</td>\n",
       "      <td>Normal</td>\n",
       "      <td>Male</td>\n",
       "      <td>Sports and travel</td>\n",
       "      <td>45.58</td>\n",
       "      <td>7</td>\n",
       "      <td>15.9530</td>\n",
       "      <td>335.0130</td>\n",
       "      <td>1/13/2019</td>\n",
       "      <td>10:03</td>\n",
       "      <td>Cash</td>\n",
       "      <td>319.06</td>\n",
       "      <td>4.761905</td>\n",
       "      <td>15.9530</td>\n",
       "      <td>5.0</td>\n",
       "    </tr>\n",
       "  </tbody>\n",
       "</table>\n",
       "</div>"
      ],
      "text/plain": [
       "            Branch    City Customer type Gender       Product line  \\\n",
       "Invoice ID                                                           \n",
       "232-11-3025      A  Yangon        Normal   Male  Sports and travel   \n",
       "504-35-8843      A  Yangon        Normal   Male  Sports and travel   \n",
       "630-74-5166      A  Yangon        Normal   Male  Sports and travel   \n",
       "275-28-0149      A  Yangon        Normal   Male  Sports and travel   \n",
       "150-89-8043      A  Yangon        Normal   Male  Sports and travel   \n",
       "827-77-7633      A  Yangon        Normal   Male  Sports and travel   \n",
       "166-19-2553      A  Yangon        Member   Male  Sports and travel   \n",
       "460-93-5834      A  Yangon        Normal   Male  Sports and travel   \n",
       "\n",
       "             Unit price  Quantity   Tax 5%     Total       Date   Time  \\\n",
       "Invoice ID                                                               \n",
       "232-11-3025       78.77        10  39.3850  827.0850  1/24/2019  10:04   \n",
       "504-35-8843       42.47         1   2.1235   44.5935   1/2/2019  16:57   \n",
       "630-74-5166       62.13         6  18.6390  391.4190  3/22/2019  20:19   \n",
       "275-28-0149       63.69         1   3.1845   66.8745  2/25/2019  16:21   \n",
       "150-89-8043       44.65         3   6.6975  140.6475  2/14/2019  15:04   \n",
       "827-77-7633       98.09         9  44.1405  926.9505  2/17/2019  19:41   \n",
       "166-19-2553       89.06         6  26.7180  561.0780  1/18/2019  17:26   \n",
       "460-93-5834       45.58         7  15.9530  335.0130  1/13/2019  10:03   \n",
       "\n",
       "            Payment    cogs  gross margin percentage  gross income  Rating  \n",
       "Invoice ID                                                                  \n",
       "232-11-3025    Cash  787.70                 4.761905       39.3850     6.4  \n",
       "504-35-8843    Cash   42.47                 4.761905        2.1235     5.7  \n",
       "630-74-5166    Cash  372.78                 4.761905       18.6390     7.4  \n",
       "275-28-0149    Cash   63.69                 4.761905        3.1845     6.0  \n",
       "150-89-8043    Cash  133.95                 4.761905        6.6975     6.2  \n",
       "827-77-7633    Cash  882.81                 4.761905       44.1405     9.3  \n",
       "166-19-2553    Cash  534.36                 4.761905       26.7180     9.9  \n",
       "460-93-5834    Cash  319.06                 4.761905       15.9530     5.0  "
      ]
     },
     "execution_count": 177,
     "metadata": {},
     "output_type": "execute_result"
    }
   ],
   "source": [
    "df[(df['City'] == \"Yangon\") & (df['Gender'] == \"Male\") & (df['Product line'] == \"Sports and travel\") & (df['Payment'] == \"Cash\")]\n"
   ]
  },
  {
   "cell_type": "code",
   "execution_count": 178,
   "id": "578f26db",
   "metadata": {},
   "outputs": [
    {
     "data": {
      "text/html": [
       "<div>\n",
       "<style scoped>\n",
       "    .dataframe tbody tr th:only-of-type {\n",
       "        vertical-align: middle;\n",
       "    }\n",
       "\n",
       "    .dataframe tbody tr th {\n",
       "        vertical-align: top;\n",
       "    }\n",
       "\n",
       "    .dataframe thead th {\n",
       "        text-align: right;\n",
       "    }\n",
       "</style>\n",
       "<table border=\"1\" class=\"dataframe\">\n",
       "  <thead>\n",
       "    <tr style=\"text-align: right;\">\n",
       "      <th></th>\n",
       "      <th>Branch</th>\n",
       "      <th>City</th>\n",
       "      <th>Customer type</th>\n",
       "      <th>Gender</th>\n",
       "      <th>Product line</th>\n",
       "      <th>Unit price</th>\n",
       "      <th>Quantity</th>\n",
       "      <th>Tax 5%</th>\n",
       "      <th>Total</th>\n",
       "      <th>Date</th>\n",
       "      <th>Time</th>\n",
       "      <th>Payment</th>\n",
       "      <th>cogs</th>\n",
       "      <th>gross margin percentage</th>\n",
       "      <th>gross income</th>\n",
       "      <th>Rating</th>\n",
       "    </tr>\n",
       "    <tr>\n",
       "      <th>Invoice ID</th>\n",
       "      <th></th>\n",
       "      <th></th>\n",
       "      <th></th>\n",
       "      <th></th>\n",
       "      <th></th>\n",
       "      <th></th>\n",
       "      <th></th>\n",
       "      <th></th>\n",
       "      <th></th>\n",
       "      <th></th>\n",
       "      <th></th>\n",
       "      <th></th>\n",
       "      <th></th>\n",
       "      <th></th>\n",
       "      <th></th>\n",
       "      <th></th>\n",
       "    </tr>\n",
       "  </thead>\n",
       "  <tbody>\n",
       "    <tr>\n",
       "      <th>360-39-5055</th>\n",
       "      <td>C</td>\n",
       "      <td>Naypyitaw</td>\n",
       "      <td>Member</td>\n",
       "      <td>Male</td>\n",
       "      <td>Sports and travel</td>\n",
       "      <td>48.91</td>\n",
       "      <td>5</td>\n",
       "      <td>12.2275</td>\n",
       "      <td>256.7775</td>\n",
       "      <td>3/9/2019</td>\n",
       "      <td>10:17</td>\n",
       "      <td>Cash</td>\n",
       "      <td>244.55</td>\n",
       "      <td>4.761905</td>\n",
       "      <td>12.2275</td>\n",
       "      <td>6.6</td>\n",
       "    </tr>\n",
       "    <tr>\n",
       "      <th>173-57-2300</th>\n",
       "      <td>C</td>\n",
       "      <td>Naypyitaw</td>\n",
       "      <td>Member</td>\n",
       "      <td>Male</td>\n",
       "      <td>Sports and travel</td>\n",
       "      <td>72.88</td>\n",
       "      <td>2</td>\n",
       "      <td>7.2880</td>\n",
       "      <td>153.0480</td>\n",
       "      <td>3/13/2019</td>\n",
       "      <td>12:51</td>\n",
       "      <td>Cash</td>\n",
       "      <td>145.76</td>\n",
       "      <td>4.761905</td>\n",
       "      <td>7.2880</td>\n",
       "      <td>6.1</td>\n",
       "    </tr>\n",
       "    <tr>\n",
       "      <th>102-06-2002</th>\n",
       "      <td>C</td>\n",
       "      <td>Naypyitaw</td>\n",
       "      <td>Member</td>\n",
       "      <td>Male</td>\n",
       "      <td>Sports and travel</td>\n",
       "      <td>25.25</td>\n",
       "      <td>5</td>\n",
       "      <td>6.3125</td>\n",
       "      <td>132.5625</td>\n",
       "      <td>3/20/2019</td>\n",
       "      <td>17:52</td>\n",
       "      <td>Cash</td>\n",
       "      <td>126.25</td>\n",
       "      <td>4.761905</td>\n",
       "      <td>6.3125</td>\n",
       "      <td>6.1</td>\n",
       "    </tr>\n",
       "    <tr>\n",
       "      <th>784-21-9238</th>\n",
       "      <td>C</td>\n",
       "      <td>Naypyitaw</td>\n",
       "      <td>Member</td>\n",
       "      <td>Male</td>\n",
       "      <td>Sports and travel</td>\n",
       "      <td>10.17</td>\n",
       "      <td>1</td>\n",
       "      <td>0.5085</td>\n",
       "      <td>10.6785</td>\n",
       "      <td>2/7/2019</td>\n",
       "      <td>14:15</td>\n",
       "      <td>Cash</td>\n",
       "      <td>10.17</td>\n",
       "      <td>4.761905</td>\n",
       "      <td>0.5085</td>\n",
       "      <td>5.9</td>\n",
       "    </tr>\n",
       "  </tbody>\n",
       "</table>\n",
       "</div>"
      ],
      "text/plain": [
       "            Branch       City Customer type Gender       Product line  \\\n",
       "Invoice ID                                                              \n",
       "360-39-5055      C  Naypyitaw        Member   Male  Sports and travel   \n",
       "173-57-2300      C  Naypyitaw        Member   Male  Sports and travel   \n",
       "102-06-2002      C  Naypyitaw        Member   Male  Sports and travel   \n",
       "784-21-9238      C  Naypyitaw        Member   Male  Sports and travel   \n",
       "\n",
       "             Unit price  Quantity   Tax 5%     Total       Date   Time  \\\n",
       "Invoice ID                                                               \n",
       "360-39-5055       48.91         5  12.2275  256.7775   3/9/2019  10:17   \n",
       "173-57-2300       72.88         2   7.2880  153.0480  3/13/2019  12:51   \n",
       "102-06-2002       25.25         5   6.3125  132.5625  3/20/2019  17:52   \n",
       "784-21-9238       10.17         1   0.5085   10.6785   2/7/2019  14:15   \n",
       "\n",
       "            Payment    cogs  gross margin percentage  gross income  Rating  \n",
       "Invoice ID                                                                  \n",
       "360-39-5055    Cash  244.55                 4.761905       12.2275     6.6  \n",
       "173-57-2300    Cash  145.76                 4.761905        7.2880     6.1  \n",
       "102-06-2002    Cash  126.25                 4.761905        6.3125     6.1  \n",
       "784-21-9238    Cash   10.17                 4.761905        0.5085     5.9  "
      ]
     },
     "execution_count": 178,
     "metadata": {},
     "output_type": "execute_result"
    }
   ],
   "source": [
    "df[(df['City'] == \"Naypyitaw\") & (df['Gender'] == \"Male\") & (df['Product line'] == \"Sports and travel\") & (df['Payment'] == \"Cash\")]"
   ]
  },
  {
   "cell_type": "code",
   "execution_count": 179,
   "id": "32d473cc",
   "metadata": {},
   "outputs": [
    {
     "name": "stdout",
     "output_type": "stream",
     "text": [
      "Podemos confirmar la información anterior.\n"
     ]
    }
   ],
   "source": [
    "print(\"Podemos confirmar la información anterior.\")"
   ]
  },
  {
   "cell_type": "code",
   "execution_count": 189,
   "id": "f2527966",
   "metadata": {},
   "outputs": [],
   "source": [
    "supermarket = pd.read_csv('supermarket_sales - Sheet1.csv', index_col=0)"
   ]
  },
  {
   "cell_type": "code",
   "execution_count": 191,
   "id": "86d0d091",
   "metadata": {},
   "outputs": [
    {
     "name": "stdout",
     "output_type": "stream",
     "text": [
      "Crear la variable Total antes de impuestos:\n",
      "             Total antes de Imp    Total\n",
      "Invoice ID                              \n",
      "860-79-0874             10426.5  1042.65\n",
      "687-47-8271             10392.9  1039.29\n",
      "283-26-5248             10344.6  1034.46\n",
      "751-41-9720             10237.5  1023.75\n",
      "303-96-2227             10224.9  1022.49\n"
     ]
    }
   ],
   "source": [
    "print (\"Crear la variable Total antes de impuestos:\")\n",
    "supermarket['Total antes de Imp'] = supermarket['Total'] * supermarket['Quantity'] \n",
    "print(supermarket[['Total antes de Imp', 'Total']].sort_values (\"Total antes de Imp\",ascending = False). head())"
   ]
  },
  {
   "cell_type": "code",
   "execution_count": 290,
   "id": "c393ea8d",
   "metadata": {},
   "outputs": [
    {
     "name": "stdout",
     "output_type": "stream",
     "text": [
      "Promedio de las cantidades de producto comprado dependiendo de la sucursal:\n"
     ]
    },
    {
     "data": {
      "text/plain": [
       "Branch\n",
       "A    5.467647\n",
       "B    5.481928\n",
       "C    5.582317\n",
       "Name: Quantity, dtype: float64"
      ]
     },
     "execution_count": 290,
     "metadata": {},
     "output_type": "execute_result"
    }
   ],
   "source": [
    "print (\"Promedio de las cantidades de producto comprado dependiendo de la sucursal:\")\n",
    "df.groupby('Branch')['Quantity'].mean()"
   ]
  },
  {
   "cell_type": "code",
   "execution_count": 292,
   "id": "6753cb56",
   "metadata": {},
   "outputs": [
    {
     "name": "stdout",
     "output_type": "stream",
     "text": [
      "Visto desde un gráfico:\n"
     ]
    },
    {
     "data": {
      "image/png": "[encoded data removed]",
      "text/plain": [
       "<Figure size 432x288 with 1 Axes>"
      ]
     },
     "metadata": {
      "needs_background": "light"
     },
     "output_type": "display_data"
    }
   ],
   "source": [
    "print (\"Visto desde un gráfico:\")\n",
    "df.groupby('Branch')['Quantity'].mean().plot(kind = 'bar', color = 'yellow')\n",
    "plt.title('Promedio de las cantidades compradas de producto por sucursal')\n",
    "plt.xlabel('Sucursal')\n",
    "plt.ylabel('Cantidad')\n",
    "plt.show()"
   ]
  },
  {
   "cell_type": "code",
   "execution_count": 243,
   "id": "4c3fc515",
   "metadata": {},
   "outputs": [
    {
     "name": "stdout",
     "output_type": "stream",
     "text": [
      "Total de ganancias a travez del tiempo:\n"
     ]
    },
    {
     "data": {
      "text/plain": [
       "<function matplotlib.pyplot.show(close=None, block=None)>"
      ]
     },
     "execution_count": 243,
     "metadata": {},
     "output_type": "execute_result"
    },
    {
     "data": {
      "image/png": "[encoded data removed]",
      "text/plain": [
       "<Figure size 432x288 with 1 Axes>"
      ]
     },
     "metadata": {
      "needs_background": "light"
     },
     "output_type": "display_data"
    }
   ],
   "source": [
    "print (\"Total de ganancias a travez del tiempo:\")\n",
    "nb_sold_by_date = df.groupby('Date')['Total'].sum()\n",
    "nb_sold_by_date.plot(kind = 'line', color= \"red\", linestyle=\"-\")\n",
    "plt.ylabel(\"Total de ganancias\")\n",
    "plt.xlabel(\"Fecha\")\n",
    "plt.show"
   ]
  },
  {
   "cell_type": "code",
   "execution_count": 244,
   "id": "2babe37d",
   "metadata": {},
   "outputs": [
    {
     "name": "stdout",
     "output_type": "stream",
     "text": [
      "El Rating a travez del tiempo:\n"
     ]
    },
    {
     "data": {
      "image/png": "[encoded data removed]",
      "text/plain": [
       "<Figure size 432x288 with 1 Axes>"
      ]
     },
     "metadata": {
      "needs_background": "light"
     },
     "output_type": "display_data"
    }
   ],
   "source": [
    "print (\"El Rating a travez del tiempo:\")\n",
    "nb_sold_by_date = df.groupby('Date')['Rating'].sum()\n",
    "nb_sold_by_date.plot(kind = 'line', color= \"blue\", linestyle=\":\")\n",
    "plt.ylabel(\"Rating\")\n",
    "plt.xlabel(\"Fecha\")\n",
    "plt.show()"
   ]
  },
  {
   "cell_type": "code",
   "execution_count": 218,
   "id": "b97a7c21",
   "metadata": {},
   "outputs": [
    {
     "name": "stdout",
     "output_type": "stream",
     "text": [
      "Gráfico de varianza explicada:\n"
     ]
    },
    {
     "data": {
      "image/png": "[encoded data removed]",
      "text/plain": [
       "<Figure size 576x432 with 1 Axes>"
      ]
     },
     "metadata": {
      "needs_background": "light"
     },
     "output_type": "display_data"
    }
   ],
   "source": [
    "print (\"Gráfico de varianza explicada:\")\n",
    "pca = PCA()\n",
    "pca.fit(X_ss)\n",
    "\n",
    "market = range(pca.n_components_)\n",
    "\n",
    "fig = plt.figure(figsize = (8,6))\n",
    "plt.bar(market, pca.explained_variance_, color = 'green', alpha = 0.7)\n",
    "plt.suptitle('Análisis de Componentes Principales' , fontsize = 20)\n",
    "plt.title('Descriptores patrones de consumo   ', fontsize = 18)\n",
    "plt.xlabel('Componente #', loc = 'center', fontsize = 15)\n",
    "plt.ylabel('Varianza explicada', fontsize = 15)\n",
    "plt.xticks(market , fontsize = 12)\n",
    "plt.yticks(fontsize = 12)\n",
    "plt.axhline(y = 1, linestyle = 'dotted', color = 'black')\n",
    "plt.show()"
   ]
  },
  {
   "cell_type": "code",
   "execution_count": 300,
   "id": "4ba243e4",
   "metadata": {},
   "outputs": [
    {
     "name": "stdout",
     "output_type": "stream",
     "text": [
      "Para explicar aproximadamente el 70% de la varianza original: utilizar los primeros tres componentes principales, los cuales explican aproximadamente el 50%, 10% y 10% respectivamente.\n"
     ]
    }
   ],
   "source": [
    "print (\"Para explicar aproximadamente el 70% de la varianza original: utilizar los primeros tres componentes principales, los cuales explican aproximadamente el 50%, 10% y 10% respectivamente.\")"
   ]
  },
  {
   "cell_type": "code",
   "execution_count": 302,
   "id": "cab46ad6",
   "metadata": {},
   "outputs": [
    {
     "name": "stdout",
     "output_type": "stream",
     "text": [
      "Hasta aquí es una muestra de la información, estadística y análisis de una base de datos que le podemos brindar en nuestra app, señalando el hecho de que al susbrirse tendran acceso a más herramientas e interpretaciones\n"
     ]
    }
   ],
   "source": [
    "print (\"Hasta aquí es una muestra de la información, estadística y análisis de una base de datos que le podemos brindar en nuestra app, señalando el hecho de que al susbrirse tendran acceso a más herramientas e interpretaciones\")\n"
   ]
  },
  {
   "cell_type": "code",
   "execution_count": 306,
   "id": "353fc506",
   "metadata": {},
   "outputs": [
    {
     "name": "stdout",
     "output_type": "stream",
     "text": [
      "¡Suscribite ya Breydi!\n"
     ]
    }
   ],
   "source": [
    "print (\"¡Suscribite ya \" + nombre + \"!\")"
   ]
  }
 ],
 "metadata": {
  "kernelspec": {
   "display_name": "Python 3",
   "language": "python",
   "name": "python3"
  },
  "language_info": {
   "codemirror_mode": {
    "name": "ipython",
    "version": 3
   },
   "file_extension": ".py",
   "mimetype": "text/x-python",
   "name": "python",
   "nbconvert_exporter": "python",
   "pygments_lexer": "ipython3",
   "version": "3.8.8"
  }
 },
 "nbformat": 4,
 "nbformat_minor": 5
}
